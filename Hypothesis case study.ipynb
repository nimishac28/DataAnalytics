{
 "cells": [
  {
   "cell_type": "markdown",
   "id": "2212b92f",
   "metadata": {},
   "source": [
    "# HYPOTHESIS TESTING CASE STUDY"
   ]
  },
  {
   "cell_type": "markdown",
   "id": "ab103ddc",
   "metadata": {},
   "source": [
    "## Buisness Problem 1"
   ]
  },
  {
   "cell_type": "code",
   "execution_count": 268,
   "id": "f4debaad",
   "metadata": {},
   "outputs": [],
   "source": [
    "import pandas as pd\n",
    "import numpy as np\n",
    "import scipy.stats as stats\n",
    "import matplotlib.pyplot as plt"
   ]
  },
  {
   "cell_type": "code",
   "execution_count": 2,
   "id": "ba895ac7",
   "metadata": {},
   "outputs": [],
   "source": [
    "loans=pd.read_csv(\"D:\\\\Learning\\\\Basic Statistics - Hypothesis Testing (1)\\\\4. Basic Statistics - Hypothesis Testing\\\\LoansData.csv\")"
   ]
  },
  {
   "cell_type": "code",
   "execution_count": 3,
   "id": "aab61a49",
   "metadata": {},
   "outputs": [],
   "source": [
    "loans.columns=[x.replace('.','_') for x in loans.columns]"
   ]
  },
  {
   "cell_type": "code",
   "execution_count": 4,
   "id": "1e60db5e",
   "metadata": {},
   "outputs": [],
   "source": [
    "loans['Interest_Rate']=loans['Interest_Rate'].str.replace('%','').astype('float')"
   ]
  },
  {
   "cell_type": "code",
   "execution_count": 5,
   "id": "0ec749e8",
   "metadata": {},
   "outputs": [],
   "source": [
    "loans['Loan_Length'] = loans['Loan_Length'].str.replace(' months','').astype('float')"
   ]
  },
  {
   "cell_type": "code",
   "execution_count": 6,
   "id": "ee22d420",
   "metadata": {},
   "outputs": [],
   "source": [
    "loans['Debt_To_Income_Ratio'] = loans['Debt_To_Income_Ratio'].str.replace('%','').astype('float')"
   ]
  },
  {
   "cell_type": "code",
   "execution_count": 7,
   "id": "f54ae0cf",
   "metadata": {},
   "outputs": [],
   "source": [
    "loans['FICO'] = (loans['FICO_Range'].str.split('-', expand = True)[0].astype('float') + loans['FICO_Range'].str.split('-', expand = True)[1].astype('float') ) / 2"
   ]
  },
  {
   "cell_type": "code",
   "execution_count": 8,
   "id": "f8e153fa",
   "metadata": {
    "scrolled": true
   },
   "outputs": [],
   "source": [
    "loans['Employment_Length'] = loans['Employment_Length'].str.replace(' years','').str.replace(' year','').str.replace('< ','').str.replace('+','').astype('float')"
   ]
  },
  {
   "cell_type": "code",
   "execution_count": 9,
   "id": "12017225",
   "metadata": {},
   "outputs": [],
   "source": [
    "loans.drop(columns=['FICO_Range'],axis=1,inplace=True)"
   ]
  },
  {
   "cell_type": "code",
   "execution_count": 10,
   "id": "4e1d875f",
   "metadata": {},
   "outputs": [],
   "source": [
    "def missing_imputation(x):\n",
    "    if x.dtype == 'object':\n",
    "        x = x.fillna(x.mode()[0])\n",
    "    else:\n",
    "        x = x.fillna(x.median())\n",
    "    return x"
   ]
  },
  {
   "cell_type": "code",
   "execution_count": 11,
   "id": "bb4f016e",
   "metadata": {},
   "outputs": [],
   "source": [
    "loans=loans.apply(missing_imputation)"
   ]
  },
  {
   "cell_type": "code",
   "execution_count": 12,
   "id": "dbb0bca6",
   "metadata": {},
   "outputs": [
    {
     "data": {
      "text/html": [
       "<div>\n",
       "<style scoped>\n",
       "    .dataframe tbody tr th:only-of-type {\n",
       "        vertical-align: middle;\n",
       "    }\n",
       "\n",
       "    .dataframe tbody tr th {\n",
       "        vertical-align: top;\n",
       "    }\n",
       "\n",
       "    .dataframe thead th {\n",
       "        text-align: right;\n",
       "    }\n",
       "</style>\n",
       "<table border=\"1\" class=\"dataframe\">\n",
       "  <thead>\n",
       "    <tr style=\"text-align: right;\">\n",
       "      <th></th>\n",
       "      <th>Amount_Requested</th>\n",
       "      <th>Amount_Funded_By_Investors</th>\n",
       "      <th>Interest_Rate</th>\n",
       "      <th>Loan_Length</th>\n",
       "      <th>Loan_Purpose</th>\n",
       "      <th>Debt_To_Income_Ratio</th>\n",
       "      <th>State</th>\n",
       "      <th>Home_Ownership</th>\n",
       "      <th>Monthly_Income</th>\n",
       "      <th>Open_CREDIT_Lines</th>\n",
       "      <th>Revolving_CREDIT_Balance</th>\n",
       "      <th>Inquiries_in_the_Last_6_Months</th>\n",
       "      <th>Employment_Length</th>\n",
       "      <th>FICO</th>\n",
       "    </tr>\n",
       "  </thead>\n",
       "  <tbody>\n",
       "    <tr>\n",
       "      <th>0</th>\n",
       "      <td>20000.0</td>\n",
       "      <td>20000.00</td>\n",
       "      <td>8.90</td>\n",
       "      <td>36.0</td>\n",
       "      <td>debt_consolidation</td>\n",
       "      <td>14.90</td>\n",
       "      <td>SC</td>\n",
       "      <td>MORTGAGE</td>\n",
       "      <td>6541.67</td>\n",
       "      <td>14.0</td>\n",
       "      <td>14272.0</td>\n",
       "      <td>2.0</td>\n",
       "      <td>1.0</td>\n",
       "      <td>737.0</td>\n",
       "    </tr>\n",
       "    <tr>\n",
       "      <th>1</th>\n",
       "      <td>19200.0</td>\n",
       "      <td>19200.00</td>\n",
       "      <td>12.12</td>\n",
       "      <td>36.0</td>\n",
       "      <td>debt_consolidation</td>\n",
       "      <td>28.36</td>\n",
       "      <td>TX</td>\n",
       "      <td>MORTGAGE</td>\n",
       "      <td>4583.33</td>\n",
       "      <td>12.0</td>\n",
       "      <td>11140.0</td>\n",
       "      <td>1.0</td>\n",
       "      <td>2.0</td>\n",
       "      <td>717.0</td>\n",
       "    </tr>\n",
       "    <tr>\n",
       "      <th>2</th>\n",
       "      <td>35000.0</td>\n",
       "      <td>35000.00</td>\n",
       "      <td>21.98</td>\n",
       "      <td>60.0</td>\n",
       "      <td>debt_consolidation</td>\n",
       "      <td>23.81</td>\n",
       "      <td>CA</td>\n",
       "      <td>MORTGAGE</td>\n",
       "      <td>11500.00</td>\n",
       "      <td>14.0</td>\n",
       "      <td>21977.0</td>\n",
       "      <td>1.0</td>\n",
       "      <td>2.0</td>\n",
       "      <td>692.0</td>\n",
       "    </tr>\n",
       "    <tr>\n",
       "      <th>3</th>\n",
       "      <td>10000.0</td>\n",
       "      <td>9975.00</td>\n",
       "      <td>9.99</td>\n",
       "      <td>36.0</td>\n",
       "      <td>debt_consolidation</td>\n",
       "      <td>14.30</td>\n",
       "      <td>KS</td>\n",
       "      <td>MORTGAGE</td>\n",
       "      <td>3833.33</td>\n",
       "      <td>10.0</td>\n",
       "      <td>9346.0</td>\n",
       "      <td>0.0</td>\n",
       "      <td>5.0</td>\n",
       "      <td>697.0</td>\n",
       "    </tr>\n",
       "    <tr>\n",
       "      <th>4</th>\n",
       "      <td>12000.0</td>\n",
       "      <td>12000.00</td>\n",
       "      <td>11.71</td>\n",
       "      <td>36.0</td>\n",
       "      <td>credit_card</td>\n",
       "      <td>18.78</td>\n",
       "      <td>NJ</td>\n",
       "      <td>RENT</td>\n",
       "      <td>3195.00</td>\n",
       "      <td>11.0</td>\n",
       "      <td>14469.0</td>\n",
       "      <td>0.0</td>\n",
       "      <td>9.0</td>\n",
       "      <td>697.0</td>\n",
       "    </tr>\n",
       "    <tr>\n",
       "      <th>...</th>\n",
       "      <td>...</td>\n",
       "      <td>...</td>\n",
       "      <td>...</td>\n",
       "      <td>...</td>\n",
       "      <td>...</td>\n",
       "      <td>...</td>\n",
       "      <td>...</td>\n",
       "      <td>...</td>\n",
       "      <td>...</td>\n",
       "      <td>...</td>\n",
       "      <td>...</td>\n",
       "      <td>...</td>\n",
       "      <td>...</td>\n",
       "      <td>...</td>\n",
       "    </tr>\n",
       "    <tr>\n",
       "      <th>2495</th>\n",
       "      <td>30000.0</td>\n",
       "      <td>29950.00</td>\n",
       "      <td>16.77</td>\n",
       "      <td>60.0</td>\n",
       "      <td>debt_consolidation</td>\n",
       "      <td>19.23</td>\n",
       "      <td>NY</td>\n",
       "      <td>MORTGAGE</td>\n",
       "      <td>9250.00</td>\n",
       "      <td>15.0</td>\n",
       "      <td>45880.0</td>\n",
       "      <td>1.0</td>\n",
       "      <td>8.0</td>\n",
       "      <td>707.0</td>\n",
       "    </tr>\n",
       "    <tr>\n",
       "      <th>2496</th>\n",
       "      <td>16000.0</td>\n",
       "      <td>16000.00</td>\n",
       "      <td>14.09</td>\n",
       "      <td>60.0</td>\n",
       "      <td>home_improvement</td>\n",
       "      <td>21.54</td>\n",
       "      <td>MD</td>\n",
       "      <td>OWN</td>\n",
       "      <td>8903.25</td>\n",
       "      <td>18.0</td>\n",
       "      <td>18898.0</td>\n",
       "      <td>1.0</td>\n",
       "      <td>10.0</td>\n",
       "      <td>742.0</td>\n",
       "    </tr>\n",
       "    <tr>\n",
       "      <th>2497</th>\n",
       "      <td>10000.0</td>\n",
       "      <td>10000.00</td>\n",
       "      <td>13.99</td>\n",
       "      <td>36.0</td>\n",
       "      <td>debt_consolidation</td>\n",
       "      <td>4.89</td>\n",
       "      <td>PA</td>\n",
       "      <td>MORTGAGE</td>\n",
       "      <td>2166.67</td>\n",
       "      <td>4.0</td>\n",
       "      <td>4544.0</td>\n",
       "      <td>0.0</td>\n",
       "      <td>10.0</td>\n",
       "      <td>682.0</td>\n",
       "    </tr>\n",
       "    <tr>\n",
       "      <th>2498</th>\n",
       "      <td>6000.0</td>\n",
       "      <td>6000.00</td>\n",
       "      <td>12.42</td>\n",
       "      <td>36.0</td>\n",
       "      <td>major_purchase</td>\n",
       "      <td>16.66</td>\n",
       "      <td>NJ</td>\n",
       "      <td>RENT</td>\n",
       "      <td>3500.00</td>\n",
       "      <td>8.0</td>\n",
       "      <td>7753.0</td>\n",
       "      <td>0.0</td>\n",
       "      <td>5.0</td>\n",
       "      <td>677.0</td>\n",
       "    </tr>\n",
       "    <tr>\n",
       "      <th>2499</th>\n",
       "      <td>9000.0</td>\n",
       "      <td>5242.75</td>\n",
       "      <td>13.79</td>\n",
       "      <td>36.0</td>\n",
       "      <td>debt_consolidation</td>\n",
       "      <td>6.76</td>\n",
       "      <td>NY</td>\n",
       "      <td>RENT</td>\n",
       "      <td>3875.00</td>\n",
       "      <td>7.0</td>\n",
       "      <td>7589.0</td>\n",
       "      <td>0.0</td>\n",
       "      <td>10.0</td>\n",
       "      <td>672.0</td>\n",
       "    </tr>\n",
       "  </tbody>\n",
       "</table>\n",
       "<p>2500 rows × 14 columns</p>\n",
       "</div>"
      ],
      "text/plain": [
       "      Amount_Requested  Amount_Funded_By_Investors  Interest_Rate  \\\n",
       "0              20000.0                    20000.00           8.90   \n",
       "1              19200.0                    19200.00          12.12   \n",
       "2              35000.0                    35000.00          21.98   \n",
       "3              10000.0                     9975.00           9.99   \n",
       "4              12000.0                    12000.00          11.71   \n",
       "...                ...                         ...            ...   \n",
       "2495           30000.0                    29950.00          16.77   \n",
       "2496           16000.0                    16000.00          14.09   \n",
       "2497           10000.0                    10000.00          13.99   \n",
       "2498            6000.0                     6000.00          12.42   \n",
       "2499            9000.0                     5242.75          13.79   \n",
       "\n",
       "      Loan_Length        Loan_Purpose  Debt_To_Income_Ratio State  \\\n",
       "0            36.0  debt_consolidation                 14.90    SC   \n",
       "1            36.0  debt_consolidation                 28.36    TX   \n",
       "2            60.0  debt_consolidation                 23.81    CA   \n",
       "3            36.0  debt_consolidation                 14.30    KS   \n",
       "4            36.0         credit_card                 18.78    NJ   \n",
       "...           ...                 ...                   ...   ...   \n",
       "2495         60.0  debt_consolidation                 19.23    NY   \n",
       "2496         60.0    home_improvement                 21.54    MD   \n",
       "2497         36.0  debt_consolidation                  4.89    PA   \n",
       "2498         36.0      major_purchase                 16.66    NJ   \n",
       "2499         36.0  debt_consolidation                  6.76    NY   \n",
       "\n",
       "     Home_Ownership  Monthly_Income  Open_CREDIT_Lines  \\\n",
       "0          MORTGAGE         6541.67               14.0   \n",
       "1          MORTGAGE         4583.33               12.0   \n",
       "2          MORTGAGE        11500.00               14.0   \n",
       "3          MORTGAGE         3833.33               10.0   \n",
       "4              RENT         3195.00               11.0   \n",
       "...             ...             ...                ...   \n",
       "2495       MORTGAGE         9250.00               15.0   \n",
       "2496            OWN         8903.25               18.0   \n",
       "2497       MORTGAGE         2166.67                4.0   \n",
       "2498           RENT         3500.00                8.0   \n",
       "2499           RENT         3875.00                7.0   \n",
       "\n",
       "      Revolving_CREDIT_Balance  Inquiries_in_the_Last_6_Months  \\\n",
       "0                      14272.0                             2.0   \n",
       "1                      11140.0                             1.0   \n",
       "2                      21977.0                             1.0   \n",
       "3                       9346.0                             0.0   \n",
       "4                      14469.0                             0.0   \n",
       "...                        ...                             ...   \n",
       "2495                   45880.0                             1.0   \n",
       "2496                   18898.0                             1.0   \n",
       "2497                    4544.0                             0.0   \n",
       "2498                    7753.0                             0.0   \n",
       "2499                    7589.0                             0.0   \n",
       "\n",
       "      Employment_Length   FICO  \n",
       "0                   1.0  737.0  \n",
       "1                   2.0  717.0  \n",
       "2                   2.0  692.0  \n",
       "3                   5.0  697.0  \n",
       "4                   9.0  697.0  \n",
       "...                 ...    ...  \n",
       "2495                8.0  707.0  \n",
       "2496               10.0  742.0  \n",
       "2497               10.0  682.0  \n",
       "2498                5.0  677.0  \n",
       "2499               10.0  672.0  \n",
       "\n",
       "[2500 rows x 14 columns]"
      ]
     },
     "execution_count": 12,
     "metadata": {},
     "output_type": "execute_result"
    }
   ],
   "source": [
    "loans"
   ]
  },
  {
   "cell_type": "markdown",
   "id": "7e3b7b55",
   "metadata": {},
   "source": [
    "### a"
   ]
  },
  {
   "cell_type": "code",
   "execution_count": 23,
   "id": "8f89be02",
   "metadata": {},
   "outputs": [],
   "source": [
    "# Ho : There is no significant difference in interest rates among different loan amount groups.\n",
    "# Ha : There is a significant difference in interest rates among different loan amount groups, and less interest is charged for high loan amounts.\n",
    "# CI : 95%\n",
    "# p-value : 0.05"
   ]
  },
  {
   "cell_type": "code",
   "execution_count": 93,
   "id": "2cbf88a8",
   "metadata": {},
   "outputs": [],
   "source": [
    "loan_amounts = loans['Amount_Funded_By_Investors']\n",
    "\n",
    "# Define the custom bin edges to create groups (e.g., quartiles)\n",
    "bin_edges = [loan_amounts.min(),loan_amounts.quantile(0.5), loan_amounts.max()]\n",
    "\n",
    "# Define the group labels based on the quantiles\n",
    "group_labels = ['Low', 'Medium','High']\n",
    "\n",
    "# Create a new column in the DataFrame to store the loan amount groups\n",
    "loans['Loan_Amount_Group'] = pd.cut(loan_amounts,bins=3,labels=group_labels)\n"
   ]
  },
  {
   "cell_type": "code",
   "execution_count": 97,
   "id": "86b270b9",
   "metadata": {},
   "outputs": [],
   "source": [
    "Low=loans.loc[loans.Loan_Amount_Group=='Low','Interest_Rate']\n",
    "Medium=loans.loc[loans.Loan_Amount_Group=='Medium','Interest_Rate']\n",
    "High=loans.loc[loans.Loan_Amount_Group=='High','Interest_Rate']"
   ]
  },
  {
   "cell_type": "code",
   "execution_count": 98,
   "id": "d9264912",
   "metadata": {},
   "outputs": [
    {
     "data": {
      "text/plain": [
       "F_onewayResult(statistic=131.8082307656362, pvalue=3.81037349749801e-55)"
      ]
     },
     "execution_count": 98,
     "metadata": {},
     "output_type": "execute_result"
    }
   ],
   "source": [
    "stats.f_oneway(Low,Medium,High)"
   ]
  },
  {
   "cell_type": "code",
   "execution_count": 101,
   "id": "8ad573cd",
   "metadata": {},
   "outputs": [
    {
     "name": "stdout",
     "output_type": "stream",
     "text": [
      "We have to reject null hypothesis, as the p_value <0.05, \n",
      "there is a significant difference in interest rates among different loan amount groups, \n",
      "and less interest is charged for high loan amounts.\n"
     ]
    }
   ],
   "source": [
    "print('''We have to reject null hypothesis, as the p_value <0.05, \n",
    "there is a significant difference in interest rates among different loan amount groups, \n",
    "and less interest is charged for high loan amounts.''')"
   ]
  },
  {
   "cell_type": "markdown",
   "id": "ca0efc9f",
   "metadata": {},
   "source": [
    "### b"
   ]
  },
  {
   "cell_type": "code",
   "execution_count": 102,
   "id": "0e01bd87",
   "metadata": {},
   "outputs": [],
   "source": [
    "# Ho : r=0\n",
    "# Ha : r<>0\n",
    "# CI : 95%\n",
    "# p_value : 0.05"
   ]
  },
  {
   "cell_type": "code",
   "execution_count": 103,
   "id": "e2e5a287",
   "metadata": {},
   "outputs": [
    {
     "data": {
      "text/plain": [
       "PearsonRResult(statistic=0.42416737515954434, pvalue=9.60599160781791e-110)"
      ]
     },
     "execution_count": 103,
     "metadata": {},
     "output_type": "execute_result"
    }
   ],
   "source": [
    "stats.pearsonr(loans.Interest_Rate, loans.Loan_Length)"
   ]
  },
  {
   "cell_type": "code",
   "execution_count": 104,
   "id": "c34e755a",
   "metadata": {},
   "outputs": [
    {
     "name": "stdout",
     "output_type": "stream",
     "text": [
      " We have to reject null hypothesis, Interest rates are effected by loan_length\n"
     ]
    }
   ],
   "source": [
    "print(''' We have to reject null hypothesis, Interest rates are effected by loan_length''')"
   ]
  },
  {
   "cell_type": "markdown",
   "id": "569d55dc",
   "metadata": {},
   "source": [
    "### c"
   ]
  },
  {
   "cell_type": "code",
   "execution_count": null,
   "id": "db5ad965",
   "metadata": {},
   "outputs": [],
   "source": [
    "# Ho : There is no difference in interest rates  for different loan_purposes\n",
    "# Ha:  There is difference in interest rates for different loan _purpose\n",
    "# CI : 95%\n",
    "# p_value : 0.05"
   ]
  },
  {
   "cell_type": "code",
   "execution_count": 109,
   "id": "802a3d6f",
   "metadata": {},
   "outputs": [
    {
     "data": {
      "text/plain": [
       "array(['debt_consolidation', 'credit_card', 'other', 'moving', 'car',\n",
       "       'vacation', 'home_improvement', 'house', 'major_purchase',\n",
       "       'educational', 'medical', 'wedding', 'small_business',\n",
       "       'renewable_energy'], dtype=object)"
      ]
     },
     "execution_count": 109,
     "metadata": {},
     "output_type": "execute_result"
    }
   ],
   "source": [
    "loans.Loan_Purpose.unique()"
   ]
  },
  {
   "cell_type": "code",
   "execution_count": 107,
   "id": "8da38dab",
   "metadata": {},
   "outputs": [],
   "source": [
    "s1=loans.loc[loans.Loan_Purpose=='debt_consolidation','Interest_Rate']\n",
    "s2=loans.loc[loans.Loan_Purpose=='credit_card','Interest_Rate']\n",
    "s3=loans.loc[loans.Loan_Purpose=='other','Interest_Rate']\n",
    "s4=loans.loc[loans.Loan_Purpose=='moving','Interest_Rate']\n",
    "s5=loans.loc[loans.Loan_Purpose=='car','Interest_Rate']\n",
    "s6=loans.loc[loans.Loan_Purpose=='vacation','Interest_Rate']\n",
    "s7=loans.loc[loans.Loan_Purpose=='home_improvement','Interest_Rate']\n",
    "s8=loans.loc[loans.Loan_Purpose=='house','Interest_Rate']\n",
    "s9=loans.loc[loans.Loan_Purpose=='major_purchase','Interest_Rate']\n",
    "s10=loans.loc[loans.Loan_Purpose=='major_purchase','Interest_Rate']\n",
    "s11=loans.loc[loans.Loan_Purpose=='educational','Interest_Rate']\n",
    "s12=loans.loc[loans.Loan_Purpose=='medical','Interest_Rate']\n",
    "s13=loans.loc[loans.Loan_Purpose=='wedding','Interest_Rate']\n",
    "s14=loans.loc[loans.Loan_Purpose=='small_business','Interest_Rate']\n",
    "s15=loans.loc[loans.Loan_Purpose=='renewable_energy','Interest_Rate']\n"
   ]
  },
  {
   "cell_type": "code",
   "execution_count": 108,
   "id": "a6c24735",
   "metadata": {},
   "outputs": [
    {
     "data": {
      "text/plain": [
       "F_onewayResult(statistic=9.191030232847098, pvalue=4.439304680071264e-20)"
      ]
     },
     "execution_count": 108,
     "metadata": {},
     "output_type": "execute_result"
    }
   ],
   "source": [
    "stats.f_oneway(s1,s2,s3,s4,s5,s6,s7,s8,s9,s10,s11,s12,s13,s14,s15)"
   ]
  },
  {
   "cell_type": "code",
   "execution_count": 110,
   "id": "debcb69c",
   "metadata": {},
   "outputs": [
    {
     "name": "stdout",
     "output_type": "stream",
     "text": [
      "We reject null hypothesis, different loan purposes have different interest rates\n"
     ]
    }
   ],
   "source": [
    "print('''We reject null hypothesis, different loan purposes have different interest rates''')"
   ]
  },
  {
   "cell_type": "markdown",
   "id": "2e248e96",
   "metadata": {},
   "source": [
    "### d"
   ]
  },
  {
   "cell_type": "code",
   "execution_count": 122,
   "id": "8558906b",
   "metadata": {},
   "outputs": [],
   "source": [
    "# Ho : r=0\n",
    "# Ha : r<>0\n",
    "# p_value : 0.05"
   ]
  },
  {
   "cell_type": "code",
   "execution_count": 112,
   "id": "c4319c82",
   "metadata": {},
   "outputs": [
    {
     "data": {
      "text/plain": [
       "array(['MORTGAGE', 'RENT', 'OWN', 'OTHER', 'NONE'], dtype=object)"
      ]
     },
     "execution_count": 112,
     "metadata": {},
     "output_type": "execute_result"
    }
   ],
   "source": [
    "loans. Home_Ownership.unique()  "
   ]
  },
  {
   "cell_type": "code",
   "execution_count": 120,
   "id": "ad922f50",
   "metadata": {},
   "outputs": [],
   "source": [
    "h1=loans.loc[loans.Home_Ownership=='MORTGAGE','FICO']\n",
    "h2=loans.loc[loans.Home_Ownership=='RENT','FICO']\n",
    "h3=loans.loc[loans.Home_Ownership=='OWN','FICO']\n",
    "h4=loans.loc[loans.Home_Ownership=='OTHER','FICO']\n",
    "h5=loans.loc[loans.Home_Ownership=='NONE','FICO']\n"
   ]
  },
  {
   "cell_type": "code",
   "execution_count": 121,
   "id": "be77df89",
   "metadata": {},
   "outputs": [
    {
     "data": {
      "text/plain": [
       "F_onewayResult(statistic=19.345822938089942, pvalue=1.0902432079019346e-15)"
      ]
     },
     "execution_count": 121,
     "metadata": {},
     "output_type": "execute_result"
    }
   ],
   "source": [
    "stats.f_oneway(h1,h2,h3,h4,h5)"
   ]
  },
  {
   "cell_type": "code",
   "execution_count": 123,
   "id": "bfd2363d",
   "metadata": {},
   "outputs": [
    {
     "name": "stdout",
     "output_type": "stream",
     "text": [
      " We reject null hypothesis, FICO is independent of Home_ownership\n"
     ]
    }
   ],
   "source": [
    "print(' We reject null hypothesis, FICO is independent of Home_ownership')"
   ]
  },
  {
   "cell_type": "markdown",
   "id": "be832611",
   "metadata": {},
   "source": [
    "## Buisnees Problem 2"
   ]
  },
  {
   "cell_type": "code",
   "execution_count": 124,
   "id": "827255e3",
   "metadata": {},
   "outputs": [],
   "source": [
    "Price_quotes=pd.read_csv(\"D:\\\\Learning\\\\Basic Statistics - Hypothesis Testing (1)\\\\4. Basic Statistics - Hypothesis Testing\\Price_Quotes.csv\")"
   ]
  },
  {
   "cell_type": "code",
   "execution_count": 125,
   "id": "475eccc5",
   "metadata": {},
   "outputs": [
    {
     "data": {
      "text/html": [
       "<div>\n",
       "<style scoped>\n",
       "    .dataframe tbody tr th:only-of-type {\n",
       "        vertical-align: middle;\n",
       "    }\n",
       "\n",
       "    .dataframe tbody tr th {\n",
       "        vertical-align: top;\n",
       "    }\n",
       "\n",
       "    .dataframe thead th {\n",
       "        text-align: right;\n",
       "    }\n",
       "</style>\n",
       "<table border=\"1\" class=\"dataframe\">\n",
       "  <thead>\n",
       "    <tr style=\"text-align: right;\">\n",
       "      <th></th>\n",
       "      <th>Order_Number</th>\n",
       "      <th>Barry_Price</th>\n",
       "      <th>Mary_Price</th>\n",
       "    </tr>\n",
       "  </thead>\n",
       "  <tbody>\n",
       "    <tr>\n",
       "      <th>0</th>\n",
       "      <td>1</td>\n",
       "      <td>126</td>\n",
       "      <td>114</td>\n",
       "    </tr>\n",
       "    <tr>\n",
       "      <th>1</th>\n",
       "      <td>2</td>\n",
       "      <td>110</td>\n",
       "      <td>118</td>\n",
       "    </tr>\n",
       "    <tr>\n",
       "      <th>2</th>\n",
       "      <td>3</td>\n",
       "      <td>138</td>\n",
       "      <td>114</td>\n",
       "    </tr>\n",
       "    <tr>\n",
       "      <th>3</th>\n",
       "      <td>4</td>\n",
       "      <td>142</td>\n",
       "      <td>111</td>\n",
       "    </tr>\n",
       "    <tr>\n",
       "      <th>4</th>\n",
       "      <td>5</td>\n",
       "      <td>146</td>\n",
       "      <td>129</td>\n",
       "    </tr>\n",
       "    <tr>\n",
       "      <th>5</th>\n",
       "      <td>6</td>\n",
       "      <td>136</td>\n",
       "      <td>119</td>\n",
       "    </tr>\n",
       "    <tr>\n",
       "      <th>6</th>\n",
       "      <td>7</td>\n",
       "      <td>94</td>\n",
       "      <td>97</td>\n",
       "    </tr>\n",
       "    <tr>\n",
       "      <th>7</th>\n",
       "      <td>8</td>\n",
       "      <td>103</td>\n",
       "      <td>104</td>\n",
       "    </tr>\n",
       "    <tr>\n",
       "      <th>8</th>\n",
       "      <td>9</td>\n",
       "      <td>140</td>\n",
       "      <td>127</td>\n",
       "    </tr>\n",
       "    <tr>\n",
       "      <th>9</th>\n",
       "      <td>10</td>\n",
       "      <td>152</td>\n",
       "      <td>133</td>\n",
       "    </tr>\n",
       "    <tr>\n",
       "      <th>10</th>\n",
       "      <td>11</td>\n",
       "      <td>108</td>\n",
       "      <td>103</td>\n",
       "    </tr>\n",
       "    <tr>\n",
       "      <th>11</th>\n",
       "      <td>12</td>\n",
       "      <td>97</td>\n",
       "      <td>108</td>\n",
       "    </tr>\n",
       "  </tbody>\n",
       "</table>\n",
       "</div>"
      ],
      "text/plain": [
       "    Order_Number  Barry_Price  Mary_Price\n",
       "0              1          126         114\n",
       "1              2          110         118\n",
       "2              3          138         114\n",
       "3              4          142         111\n",
       "4              5          146         129\n",
       "5              6          136         119\n",
       "6              7           94          97\n",
       "7              8          103         104\n",
       "8              9          140         127\n",
       "9             10          152         133\n",
       "10            11          108         103\n",
       "11            12           97         108"
      ]
     },
     "execution_count": 125,
     "metadata": {},
     "output_type": "execute_result"
    }
   ],
   "source": [
    "Price_quotes"
   ]
  },
  {
   "cell_type": "code",
   "execution_count": null,
   "id": "6d964152",
   "metadata": {},
   "outputs": [],
   "source": [
    "# Ho : u1=u2\n",
    "# Ha : u1<>u2\n",
    "# CI : 95%\n",
    "# p_value: 0.05"
   ]
  },
  {
   "cell_type": "code",
   "execution_count": 129,
   "id": "e82190d4",
   "metadata": {},
   "outputs": [
    {
     "data": {
      "text/plain": [
       "TtestResult(statistic=2.5213765108923494, pvalue=0.02840588045242053, df=11)"
      ]
     },
     "execution_count": 129,
     "metadata": {},
     "output_type": "execute_result"
    }
   ],
   "source": [
    "stats.ttest_rel(Price_quotes.Barry_Price, Price_quotes.Mary_Price)"
   ]
  },
  {
   "cell_type": "code",
   "execution_count": 134,
   "id": "a4955f84",
   "metadata": {},
   "outputs": [
    {
     "name": "stdout",
     "output_type": "stream",
     "text": [
      " We reject null hypothesis, there is a significant difference in the average price quotes provided by Mary and Barry.\n"
     ]
    }
   ],
   "source": [
    "print(' We reject null hypothesis, there is a significant difference in the average price quotes provided by Mary and Barry.')"
   ]
  },
  {
   "cell_type": "markdown",
   "id": "a9596792",
   "metadata": {},
   "source": [
    "## Buisness Problem 3"
   ]
  },
  {
   "cell_type": "code",
   "execution_count": 132,
   "id": "a5b6ae8a",
   "metadata": {},
   "outputs": [],
   "source": [
    "Treatment= pd.read_csv(\"D:\\\\Learning\\\\Basic Statistics - Hypothesis Testing (1)\\\\4. Basic Statistics - Hypothesis Testing\\\\Treatment_Facility.csv\")"
   ]
  },
  {
   "cell_type": "code",
   "execution_count": 162,
   "id": "f6d67d41",
   "metadata": {},
   "outputs": [],
   "source": [
    "Treatment=Treatment.rename(columns={'VAR4':'TRFF','VAR5':'CI'})"
   ]
  },
  {
   "cell_type": "code",
   "execution_count": 163,
   "id": "83344d61",
   "metadata": {},
   "outputs": [],
   "source": [
    "prior= Treatment[Treatment.Reengineer=='Prior']\n",
    "post= Treatment[Treatment.Reengineer=='Post']"
   ]
  },
  {
   "cell_type": "code",
   "execution_count": 146,
   "id": "9ca250c1",
   "metadata": {},
   "outputs": [],
   "source": [
    "# Ho: Reengineering effort had no impact on employee turnover\n",
    "# Ha: Reengineering effort had impact on employee turnover\n",
    "# p_value: 0.05\n",
    "# CI : 95%"
   ]
  },
  {
   "cell_type": "code",
   "execution_count": 165,
   "id": "af669242",
   "metadata": {},
   "outputs": [
    {
     "data": {
      "text/plain": [
       "TtestResult(statistic=-1.770306704753604, pvalue=0.09361109345535304, df=18.0)"
      ]
     },
     "execution_count": 165,
     "metadata": {},
     "output_type": "execute_result"
    }
   ],
   "source": [
    "stats.ttest_ind(prior.Employee_Turnover,post.Employee_Turnover)"
   ]
  },
  {
   "cell_type": "code",
   "execution_count": 169,
   "id": "f148c91c",
   "metadata": {},
   "outputs": [
    {
     "name": "stdout",
     "output_type": "stream",
     "text": [
      "We fail to reject null hypothesis. With 95 percent confidence interval,we cannot say that there is effect in staff turnover with this data.\n"
     ]
    }
   ],
   "source": [
    "print('We fail to reject null hypothesis. With 95 percent confidence interval,we cannot say that there is effect in staff turnover with this data.')"
   ]
  },
  {
   "cell_type": "code",
   "execution_count": 168,
   "id": "90cc90ba",
   "metadata": {},
   "outputs": [],
   "source": [
    "# Ho: CI has not improved\n",
    "# Ha: CI has improved\n",
    "# CI : 95%\n",
    "# p_value: 0.05"
   ]
  },
  {
   "cell_type": "code",
   "execution_count": 167,
   "id": "25945917",
   "metadata": {},
   "outputs": [
    {
     "data": {
      "text/plain": [
       "F_onewayResult(statistic=2.650105376271948, pvalue=0.12091989189884145)"
      ]
     },
     "execution_count": 167,
     "metadata": {},
     "output_type": "execute_result"
    }
   ],
   "source": [
    "stats.f_oneway(prior.CI,post.CI)"
   ]
  },
  {
   "cell_type": "code",
   "execution_count": 170,
   "id": "74abb12f",
   "metadata": {},
   "outputs": [
    {
     "name": "stdout",
     "output_type": "stream",
     "text": [
      "We fail to reject null hypothesis. With 95 percent confidence interval,we cannot say that the reengineering effort changed the critical incidence rate wuth this data.\n"
     ]
    }
   ],
   "source": [
    "print('We fail to reject null hypothesis. With 95 percent confidence interval,we cannot say that the reengineering effort changed the critical incidence rate wuth this data.')"
   ]
  },
  {
   "cell_type": "markdown",
   "id": "39904fa9",
   "metadata": {},
   "source": [
    "## Buisness Problem 4"
   ]
  },
  {
   "cell_type": "code",
   "execution_count": 171,
   "id": "927f059a",
   "metadata": {},
   "outputs": [],
   "source": [
    "priority_data=pd.read_csv(\"D:\\\\Learning\\\\Basic Statistics - Hypothesis Testing (1)\\\\4. Basic Statistics - Hypothesis Testing\\\\Priority_Assessment.csv\")"
   ]
  },
  {
   "cell_type": "code",
   "execution_count": 181,
   "id": "cce9db28",
   "metadata": {},
   "outputs": [],
   "source": [
    "# Ho: Prioritization system is not occurring\n",
    "# Ha: Prioritization system is occuring\n",
    "# CI: 95%\n",
    "# p_value: 0.05"
   ]
  },
  {
   "cell_type": "code",
   "execution_count": 179,
   "id": "5f46f96e",
   "metadata": {},
   "outputs": [],
   "source": [
    "high=priority_data.loc[priority_data.Priority=='High','Days']\n",
    "medium=priority_data.loc[priority_data.Priority=='Medium','Days']\n",
    "low=priority_data.loc[priority_data.Priority=='Low','Days']"
   ]
  },
  {
   "cell_type": "code",
   "execution_count": 180,
   "id": "dd0a941d",
   "metadata": {},
   "outputs": [
    {
     "data": {
      "text/plain": [
       "F_onewayResult(statistic=1.812311010076072, pvalue=0.16411459461716182)"
      ]
     },
     "execution_count": 180,
     "metadata": {},
     "output_type": "execute_result"
    }
   ],
   "source": [
    "stats.f_oneway(high,medium,low)"
   ]
  },
  {
   "cell_type": "code",
   "execution_count": 184,
   "id": "f1034b54",
   "metadata": {},
   "outputs": [
    {
     "name": "stdout",
     "output_type": "stream",
     "text": [
      "We cannot reject null hypothesis. With 95 percent confidence interval,we cannot say that that high priority jobs are completed more quickly than medium priority jobs, and medium priority jobs are completed more quickly than low priority jobs with the    help of this data\n"
     ]
    }
   ],
   "source": [
    "print('We cannot reject null hypothesis. With 95 percent confidence interval,we cannot say that that high priority jobs are completed more quickly than medium priority jobs, and medium priority jobs are completed more quickly than low priority jobs with the    help of this data')"
   ]
  },
  {
   "cell_type": "markdown",
   "id": "801862c6",
   "metadata": {},
   "source": [
    "## Buisness Problem 5"
   ]
  },
  {
   "cell_type": "code",
   "execution_count": 189,
   "id": "d989cfd4",
   "metadata": {},
   "outputs": [],
   "source": [
    "films=pd.read_csv(\"D:\\\\Learning\\\\Basic Statistics - Hypothesis Testing (1)\\\\4. Basic Statistics - Hypothesis Testing\\\\Films.csv\")"
   ]
  },
  {
   "cell_type": "code",
   "execution_count": 192,
   "id": "288bf90e",
   "metadata": {},
   "outputs": [],
   "source": [
    "films.Gender=np.where((films.Gender == 'Male') | (films.Gender == '1'),\"Male\",\"Female\")"
   ]
  },
  {
   "cell_type": "code",
   "execution_count": 193,
   "id": "9bfea584",
   "metadata": {},
   "outputs": [],
   "source": [
    "films.Marital_Status=np.where((films.Marital_Status=='1') | (films.Marital_Status=='Married') ,\"Married\",\"Single\") "
   ]
  },
  {
   "cell_type": "code",
   "execution_count": 197,
   "id": "5d2d6245",
   "metadata": {},
   "outputs": [],
   "source": [
    "for i in films.columns:\n",
    "    films[i]=films[i].fillna(films[i].mode()[0])"
   ]
  },
  {
   "cell_type": "markdown",
   "id": "1ebdbb94",
   "metadata": {},
   "source": [
    "### a"
   ]
  },
  {
   "cell_type": "code",
   "execution_count": 199,
   "id": "578106f2",
   "metadata": {},
   "outputs": [
    {
     "data": {
      "text/plain": [
       "Index(['_rowstate_', 'Movie', 'Gender', 'Marital_Status', 'Sinage', 'Parking',\n",
       "       'Clean', 'Overall', 'Age', 'Income', 'Hear_About'],\n",
       "      dtype='object')"
      ]
     },
     "execution_count": 199,
     "metadata": {},
     "output_type": "execute_result"
    }
   ],
   "source": [
    "films.columns"
   ]
  },
  {
   "cell_type": "code",
   "execution_count": 202,
   "id": "2f38fd0e",
   "metadata": {},
   "outputs": [],
   "source": [
    "avg=films.Overall.mean()"
   ]
  },
  {
   "cell_type": "code",
   "execution_count": 203,
   "id": "559ce8c1",
   "metadata": {},
   "outputs": [],
   "source": [
    "STD=films.Overall.std()"
   ]
  },
  {
   "cell_type": "code",
   "execution_count": 204,
   "id": "54143478",
   "metadata": {},
   "outputs": [],
   "source": [
    "SE=STD/np.sqrt(300)"
   ]
  },
  {
   "cell_type": "code",
   "execution_count": 205,
   "id": "715f6c2d",
   "metadata": {},
   "outputs": [
    {
     "data": {
      "text/plain": [
       "0.03971166534219382"
      ]
     },
     "execution_count": 205,
     "metadata": {},
     "output_type": "execute_result"
    }
   ],
   "source": [
    "SE"
   ]
  },
  {
   "cell_type": "code",
   "execution_count": 212,
   "id": "41a2c678",
   "metadata": {},
   "outputs": [
    {
     "name": "stdout",
     "output_type": "stream",
     "text": [
      "With 95% confidence , we can say overall customer satisfaction will range from (1.5433772571414213 - 1.699046985282821)\n"
     ]
    }
   ],
   "source": [
    "print(f'With 95% confidence , we can say overall customer satisfaction will range from ({avg-(1.96*SE)} - {avg +(1.96*SE)})')"
   ]
  },
  {
   "cell_type": "markdown",
   "id": "a0c44e10",
   "metadata": {},
   "source": [
    "### b"
   ]
  },
  {
   "cell_type": "markdown",
   "id": "5aa6f768",
   "metadata": {},
   "source": [
    "#### Movie"
   ]
  },
  {
   "cell_type": "code",
   "execution_count": 216,
   "id": "c469140e",
   "metadata": {},
   "outputs": [
    {
     "data": {
      "text/plain": [
       "array(['Ferris Buellers Day Off', 'Willy Wonka', 'Old School'],\n",
       "      dtype=object)"
      ]
     },
     "execution_count": 216,
     "metadata": {},
     "output_type": "execute_result"
    }
   ],
   "source": [
    "films.Movie.unique()"
   ]
  },
  {
   "cell_type": "code",
   "execution_count": 217,
   "id": "ad793b64",
   "metadata": {},
   "outputs": [],
   "source": [
    "movie_1=films.loc[films.Movie==\"Ferris Buellers Day Off\",'Overall']\n",
    "movie_2=films.loc[films.Movie==\"Willy Wonka\",'Overall']\n",
    "movie_3=films.loc[films.Movie==\"Old School\",'Overall']"
   ]
  },
  {
   "cell_type": "code",
   "execution_count": 218,
   "id": "7d8ad27e",
   "metadata": {},
   "outputs": [
    {
     "data": {
      "text/plain": [
       "F_onewayResult(statistic=1.3352437528862333, pvalue=0.2645245972839795)"
      ]
     },
     "execution_count": 218,
     "metadata": {},
     "output_type": "execute_result"
    }
   ],
   "source": [
    "stats.f_oneway(movie_1,movie_2,movie_3)"
   ]
  },
  {
   "cell_type": "code",
   "execution_count": 232,
   "id": "1af7007d",
   "metadata": {},
   "outputs": [
    {
     "name": "stdout",
     "output_type": "stream",
     "text": [
      "\u001b[1m Movie doesnt impact customer satisfaction \u001b[0m\n"
     ]
    }
   ],
   "source": [
    "print('\\033[1m Movie doesnt impact customer satisfaction \\033[0m')"
   ]
  },
  {
   "cell_type": "markdown",
   "id": "e5c9471f",
   "metadata": {},
   "source": [
    "#### Gender"
   ]
  },
  {
   "cell_type": "code",
   "execution_count": 222,
   "id": "f9b8db95",
   "metadata": {},
   "outputs": [],
   "source": [
    "Male= films.loc[films.Gender=='Male','Overall']\n",
    "Female= films.loc[films.Gender=='Female','Overall']"
   ]
  },
  {
   "cell_type": "code",
   "execution_count": 223,
   "id": "056faab0",
   "metadata": {},
   "outputs": [
    {
     "data": {
      "text/plain": [
       "TtestResult(statistic=1.393621669674226, pvalue=0.164375419321128, df=328.0)"
      ]
     },
     "execution_count": 223,
     "metadata": {},
     "output_type": "execute_result"
    }
   ],
   "source": [
    "stats.ttest_ind(Male,Female)"
   ]
  },
  {
   "cell_type": "code",
   "execution_count": 233,
   "id": "8a4a6abd",
   "metadata": {},
   "outputs": [
    {
     "name": "stdout",
     "output_type": "stream",
     "text": [
      "\u001b[1m Gender doesnt impact customer satisfaction \u001b[0m\n"
     ]
    }
   ],
   "source": [
    "print('\\033[1m Gender doesnt impact customer satisfaction \\033[0m')"
   ]
  },
  {
   "cell_type": "markdown",
   "id": "d6d4e0ff",
   "metadata": {},
   "source": [
    "#### Marital_status"
   ]
  },
  {
   "cell_type": "code",
   "execution_count": 226,
   "id": "67912ccf",
   "metadata": {},
   "outputs": [],
   "source": [
    "single= films.loc[films.Marital_Status=='Single','Overall']\n",
    "married=films.loc[films.Marital_Status=='Married','Overall']"
   ]
  },
  {
   "cell_type": "code",
   "execution_count": 227,
   "id": "6f1c5e88",
   "metadata": {},
   "outputs": [
    {
     "data": {
      "text/plain": [
       "TtestResult(statistic=0.7171640309514444, pvalue=0.47378328196635067, df=328.0)"
      ]
     },
     "execution_count": 227,
     "metadata": {},
     "output_type": "execute_result"
    }
   ],
   "source": [
    "stats.ttest_ind(single,married)"
   ]
  },
  {
   "cell_type": "code",
   "execution_count": 234,
   "id": "392b2cc1",
   "metadata": {},
   "outputs": [
    {
     "name": "stdout",
     "output_type": "stream",
     "text": [
      "\u001b[1m Marital_Status doesnt impact customer satisfaction \u001b[0m\n"
     ]
    }
   ],
   "source": [
    "print('\\033[1m Marital_Status doesnt impact customer satisfaction \\033[0m')"
   ]
  },
  {
   "cell_type": "markdown",
   "id": "f7e71d0f",
   "metadata": {},
   "source": [
    "#### Signage"
   ]
  },
  {
   "cell_type": "code",
   "execution_count": 236,
   "id": "8b550374",
   "metadata": {},
   "outputs": [
    {
     "name": "stdout",
     "output_type": "stream",
     "text": [
      "<class 'pandas.core.series.Series'>\n",
      "RangeIndex: 330 entries, 0 to 329\n",
      "Series name: Sinage\n",
      "Non-Null Count  Dtype  \n",
      "--------------  -----  \n",
      "330 non-null    float64\n",
      "dtypes: float64(1)\n",
      "memory usage: 2.7 KB\n"
     ]
    }
   ],
   "source": [
    "films.Sinage.info()"
   ]
  },
  {
   "cell_type": "code",
   "execution_count": 231,
   "id": "6afbdae6",
   "metadata": {},
   "outputs": [
    {
     "data": {
      "text/plain": [
       "PearsonRResult(statistic=0.38210280422395654, pvalue=6.501065434767194e-13)"
      ]
     },
     "execution_count": 231,
     "metadata": {},
     "output_type": "execute_result"
    }
   ],
   "source": [
    "stats.pearsonr(films.Sinage,films.Overall)"
   ]
  },
  {
   "cell_type": "code",
   "execution_count": 235,
   "id": "b73e4e6f",
   "metadata": {},
   "outputs": [
    {
     "name": "stdout",
     "output_type": "stream",
     "text": [
      "\u001b[1m With 95% Confidence, we can say that Signage impacts customer satisfaction \u001b[0m\n"
     ]
    }
   ],
   "source": [
    "print('\\033[1m With 95% Confidence, we can say that Signage impacts customer satisfaction \\033[0m')"
   ]
  },
  {
   "cell_type": "markdown",
   "id": "0822a025",
   "metadata": {},
   "source": [
    "#### Parking"
   ]
  },
  {
   "cell_type": "code",
   "execution_count": 237,
   "id": "dfa0f2d4",
   "metadata": {},
   "outputs": [
    {
     "data": {
      "text/plain": [
       "PearsonRResult(statistic=0.5144289487855264, pvalue=1.0840276087792884e-23)"
      ]
     },
     "execution_count": 237,
     "metadata": {},
     "output_type": "execute_result"
    }
   ],
   "source": [
    "stats.pearsonr(films.Parking, films.Overall)"
   ]
  },
  {
   "cell_type": "code",
   "execution_count": 238,
   "id": "c003435d",
   "metadata": {},
   "outputs": [
    {
     "name": "stdout",
     "output_type": "stream",
     "text": [
      "\u001b[1m With 95% Confidence, we can say that Parking also impacts customer satisfaction \u001b[0m\n"
     ]
    }
   ],
   "source": [
    "print('\\033[1m With 95% Confidence, we can say that Parking also impacts customer satisfaction \\033[0m')"
   ]
  },
  {
   "cell_type": "markdown",
   "id": "353ce300",
   "metadata": {},
   "source": [
    "#### Clean"
   ]
  },
  {
   "cell_type": "code",
   "execution_count": 239,
   "id": "99055da1",
   "metadata": {},
   "outputs": [
    {
     "data": {
      "text/plain": [
       "PearsonRResult(statistic=0.35082227890709183, pvalue=5.437550007440304e-11)"
      ]
     },
     "execution_count": 239,
     "metadata": {},
     "output_type": "execute_result"
    }
   ],
   "source": [
    "stats.pearsonr(films.Clean, films.Overall)"
   ]
  },
  {
   "cell_type": "code",
   "execution_count": 240,
   "id": "e14fac64",
   "metadata": {},
   "outputs": [
    {
     "name": "stdout",
     "output_type": "stream",
     "text": [
      "\u001b[1m With 95% Confidence, we can say that Cleanliness also impacts customer satisfaction \u001b[0m\n"
     ]
    }
   ],
   "source": [
    "print('\\033[1m With 95% Confidence, we can say that Cleanliness also impacts customer satisfaction \\033[0m')"
   ]
  },
  {
   "cell_type": "markdown",
   "id": "629e478d",
   "metadata": {},
   "source": [
    "#### Age"
   ]
  },
  {
   "cell_type": "code",
   "execution_count": 241,
   "id": "a7f383e5",
   "metadata": {},
   "outputs": [
    {
     "data": {
      "text/plain": [
       "array([3., 2., 4., 1.])"
      ]
     },
     "execution_count": 241,
     "metadata": {},
     "output_type": "execute_result"
    }
   ],
   "source": [
    "films.Age.unique()"
   ]
  },
  {
   "cell_type": "code",
   "execution_count": 242,
   "id": "03718b24",
   "metadata": {},
   "outputs": [],
   "source": [
    "a1=films.loc[films.Age==1,'Overall']\n",
    "a2=films.loc[films.Age==2,'Overall']\n",
    "a3=films.loc[films.Age==3,'Overall']\n",
    "a4=films.loc[films.Age==4,'Overall']"
   ]
  },
  {
   "cell_type": "code",
   "execution_count": 243,
   "id": "b6eb2403",
   "metadata": {},
   "outputs": [
    {
     "data": {
      "text/plain": [
       "F_onewayResult(statistic=1.0249927945692117, pvalue=0.3816737451872476)"
      ]
     },
     "execution_count": 243,
     "metadata": {},
     "output_type": "execute_result"
    }
   ],
   "source": [
    "stats.f_oneway(a1,a2,a3,a4)"
   ]
  },
  {
   "cell_type": "code",
   "execution_count": 244,
   "id": "396cad47",
   "metadata": {},
   "outputs": [
    {
     "name": "stdout",
     "output_type": "stream",
     "text": [
      "\u001b[1m Age doesnt impact customer satisfaction \u001b[0m\n"
     ]
    }
   ],
   "source": [
    "print('\\033[1m Age doesnt impact customer satisfaction \\033[0m')"
   ]
  },
  {
   "cell_type": "markdown",
   "id": "4b0560c7",
   "metadata": {},
   "source": [
    "#### Income"
   ]
  },
  {
   "cell_type": "code",
   "execution_count": 245,
   "id": "93d2f2b6",
   "metadata": {},
   "outputs": [],
   "source": [
    "I1=films.loc[films.Income==1,'Overall']\n",
    "I2=films.loc[films.Income==2,'Overall']\n",
    "I3=films.loc[films.Income==3,'Overall']"
   ]
  },
  {
   "cell_type": "code",
   "execution_count": 246,
   "id": "f0caea27",
   "metadata": {},
   "outputs": [
    {
     "data": {
      "text/plain": [
       "F_onewayResult(statistic=0.16488481054397225, pvalue=0.8480618362664576)"
      ]
     },
     "execution_count": 246,
     "metadata": {},
     "output_type": "execute_result"
    }
   ],
   "source": [
    "stats.f_oneway(I1,I2,I3)"
   ]
  },
  {
   "cell_type": "code",
   "execution_count": 247,
   "id": "bc43840e",
   "metadata": {},
   "outputs": [
    {
     "name": "stdout",
     "output_type": "stream",
     "text": [
      "\u001b[1m Income doesnt impact customer satisfaction \u001b[0m\n"
     ]
    }
   ],
   "source": [
    "print('\\033[1m Income doesnt impact customer satisfaction \\033[0m')"
   ]
  },
  {
   "cell_type": "markdown",
   "id": "3a5d31a6",
   "metadata": {},
   "source": [
    "#### Hear about"
   ]
  },
  {
   "cell_type": "code",
   "execution_count": 249,
   "id": "2131dd92",
   "metadata": {},
   "outputs": [
    {
     "data": {
      "text/plain": [
       "array(['5', '1', '4', '2', '3', '4,5', '2,5', '1,5', '3,4', '5,4', '3,5'],\n",
       "      dtype=object)"
      ]
     },
     "execution_count": 249,
     "metadata": {},
     "output_type": "execute_result"
    }
   ],
   "source": [
    "films.Hear_About.unique()"
   ]
  },
  {
   "cell_type": "code",
   "execution_count": 256,
   "id": "fb213527",
   "metadata": {},
   "outputs": [],
   "source": [
    "h5=films.loc[films.Hear_About=='5','Overall']\n",
    "h4=films.loc[films.Hear_About=='4','Overall']\n",
    "h3=films.loc[films.Hear_About=='3','Overall']\n",
    "h2=films.loc[films.Hear_About=='2','Overall']\n",
    "h1=films.loc[films.Hear_About=='1','Overall']\n",
    "h4_5=films.loc[films.Hear_About=='4,5','Overall']\n",
    "h2_5=films.loc[films.Hear_About=='2,5','Overall']\n",
    "h1_5=films.loc[films.Hear_About=='1,5','Overall']\n",
    "h3_4=films.loc[films.Hear_About=='3,4','Overall']\n",
    "h5_4=films.loc[films.Hear_About=='5,4','Overall']\n",
    "h3_5=films.loc[films.Hear_About=='3,5','Overall']\n",
    "\n",
    "\n"
   ]
  },
  {
   "cell_type": "code",
   "execution_count": 257,
   "id": "79c151ac",
   "metadata": {},
   "outputs": [
    {
     "data": {
      "text/plain": [
       "F_onewayResult(statistic=1.457397539085138, pvalue=0.15433478299883044)"
      ]
     },
     "execution_count": 257,
     "metadata": {},
     "output_type": "execute_result"
    }
   ],
   "source": [
    "stats.f_oneway(h5,h4,h3,h2,h1,h4_5,h2_5,h1_5,h3_4,h5_4,h3_5)"
   ]
  },
  {
   "cell_type": "code",
   "execution_count": 258,
   "id": "3c1d9f9c",
   "metadata": {},
   "outputs": [
    {
     "name": "stdout",
     "output_type": "stream",
     "text": [
      "\u001b[1m Hear_about doesnt impact customer satisfaction \u001b[0m\n"
     ]
    }
   ],
   "source": [
    "print('\\033[1m Hear_about doesnt impact customer satisfaction \\033[0m')"
   ]
  },
  {
   "cell_type": "code",
   "execution_count": 259,
   "id": "a9955a33",
   "metadata": {},
   "outputs": [
    {
     "name": "stdout",
     "output_type": "stream",
     "text": [
      "\u001b[1m Parking, Signage and Cleanliness are the fators impacting cutomer satisfaction\n"
     ]
    }
   ],
   "source": [
    "print('\\33[1m Parking, Signage and Cleanliness are the fators impacting cutomer satisfaction')"
   ]
  },
  {
   "cell_type": "markdown",
   "id": "832158c5",
   "metadata": {},
   "source": [
    "### c"
   ]
  },
  {
   "cell_type": "code",
   "execution_count": 261,
   "id": "68e3beb3",
   "metadata": {},
   "outputs": [
    {
     "data": {
      "text/plain": [
       "Index(['_rowstate_', 'Movie', 'Gender', 'Marital_Status', 'Sinage', 'Parking',\n",
       "       'Clean', 'Overall', 'Age', 'Income', 'Hear_About'],\n",
       "      dtype='object')"
      ]
     },
     "execution_count": 261,
     "metadata": {},
     "output_type": "execute_result"
    }
   ],
   "source": [
    "films.columns"
   ]
  },
  {
   "cell_type": "code",
   "execution_count": 280,
   "id": "8b521c61",
   "metadata": {},
   "outputs": [],
   "source": [
    "a=(films.Gender.value_counts()/330*100).reset_index()"
   ]
  },
  {
   "cell_type": "code",
   "execution_count": 294,
   "id": "36790a2b",
   "metadata": {},
   "outputs": [
    {
     "data": {
      "image/png": "[encoded data removed]",
      "text/plain": [
       "<Figure size 432x432 with 1 Axes>"
      ]
     },
     "metadata": {},
     "output_type": "display_data"
    }
   ],
   "source": [
    "plt.figure(figsize=(6, 6))\n",
    "plt.pie(a['count'], labels=a['Gender'], autopct='%1.1f%%', startangle=140)\n",
    "plt.show()\n"
   ]
  },
  {
   "cell_type": "code",
   "execution_count": 295,
   "id": "24b2ebb4",
   "metadata": {},
   "outputs": [],
   "source": [
    "b=(films.Marital_Status.value_counts()/330*100).reset_index()"
   ]
  },
  {
   "cell_type": "code",
   "execution_count": 298,
   "id": "9668bce4",
   "metadata": {},
   "outputs": [
    {
     "data": {
      "image/png": "[encoded data removed]",
      "text/plain": [
       "<Figure size 432x432 with 1 Axes>"
      ]
     },
     "metadata": {},
     "output_type": "display_data"
    }
   ],
   "source": [
    "plt.figure(figsize=(6, 6))\n",
    "plt.pie(b['count'], labels=b['Marital_Status'], autopct='%1.1f%%', startangle=140)\n",
    "plt.show()"
   ]
  },
  {
   "cell_type": "code",
   "execution_count": 299,
   "id": "88d9179b",
   "metadata": {},
   "outputs": [],
   "source": [
    "c=(films.Age.value_counts()/330*100).reset_index()"
   ]
  },
  {
   "cell_type": "code",
   "execution_count": 304,
   "id": "389af8b0",
   "metadata": {},
   "outputs": [
    {
     "data": {
      "image/png": "[encoded data removed]",
      "text/plain": [
       "<Figure size 432x432 with 1 Axes>"
      ]
     },
     "metadata": {},
     "output_type": "display_data"
    }
   ],
   "source": [
    "plt.figure(figsize=(6, 6))\n",
    "plt.pie(c['count'], labels=['13-30','31-60','1-12','60+'], autopct='%1.1f%%', startangle=140)\n",
    "plt.show()"
   ]
  },
  {
   "cell_type": "code",
   "execution_count": 305,
   "id": "dc651f20",
   "metadata": {},
   "outputs": [],
   "source": [
    "d=(films.Income.value_counts()/330*100).reset_index()"
   ]
  },
  {
   "cell_type": "code",
   "execution_count": 308,
   "id": "5bfdefe0",
   "metadata": {},
   "outputs": [
    {
     "data": {
      "image/png": "[encoded data removed]",
      "text/plain": [
       "<Figure size 432x432 with 1 Axes>"
      ]
     },
     "metadata": {},
     "output_type": "display_data"
    }
   ],
   "source": [
    "plt.figure(figsize=(6, 6))\n",
    "plt.pie(d['count'], labels=['<$50000','$100000+','$50000-$100000'], autopct='%1.1f%%', startangle=140)\n",
    "plt.show()"
   ]
  },
  {
   "cell_type": "markdown",
   "id": "5215c033",
   "metadata": {},
   "source": [
    "### d"
   ]
  },
  {
   "cell_type": "code",
   "execution_count": 321,
   "id": "f5450ec5",
   "metadata": {},
   "outputs": [
    {
     "data": {
      "text/plain": [
       "'5'"
      ]
     },
     "execution_count": 321,
     "metadata": {},
     "output_type": "execute_result"
    }
   ],
   "source": [
    "films.Hear_About.value_counts().reset_index().iloc[0,0]"
   ]
  },
  {
   "cell_type": "code",
   "execution_count": 323,
   "id": "5145ca1f",
   "metadata": {},
   "outputs": [
    {
     "name": "stdout",
     "output_type": "stream",
     "text": [
      "\u001b[1m Word of mouth\u001b[0m\n"
     ]
    }
   ],
   "source": [
    "print('\\033[1m Word of mouth\\033[0m')"
   ]
  },
  {
   "cell_type": "code",
   "execution_count": null,
   "id": "6be649c8",
   "metadata": {},
   "outputs": [],
   "source": []
  },
  {
   "cell_type": "code",
   "execution_count": null,
   "id": "56391c11",
   "metadata": {},
   "outputs": [],
   "source": []
  }
 ],
 "metadata": {
  "kernelspec": {
   "display_name": "Python 3 (ipykernel)",
   "language": "python",
   "name": "python3"
  },
  "language_info": {
   "codemirror_mode": {
    "name": "ipython",
    "version": 3
   },
   "file_extension": ".py",
   "mimetype": "text/x-python",
   "name": "python",
   "nbconvert_exporter": "python",
   "pygments_lexer": "ipython3",
   "version": "3.9.7"
  }
 },
 "nbformat": 4,
 "nbformat_minor": 5
}
