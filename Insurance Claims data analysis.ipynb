{
 "cells": [
  {
   "cell_type": "markdown",
   "id": "0b789bb8",
   "metadata": {},
   "source": [
    "# Insurance claims analysis"
   ]
  },
  {
   "cell_type": "code",
   "execution_count": 1,
   "id": "32ed3561",
   "metadata": {},
   "outputs": [],
   "source": [
    "import pandas as pd\n",
    "import numpy as np\n",
    "import matplotlib.pyplot as plt\n",
    "import datetime as dt\n",
    "import seaborn as sns"
   ]
  },
  {
   "cell_type": "markdown",
   "id": "e33dca56",
   "metadata": {},
   "source": [
    "### Q1."
   ]
  },
  {
   "cell_type": "code",
   "execution_count": 2,
   "id": "71c0dfbb",
   "metadata": {},
   "outputs": [],
   "source": [
    "claims=pd.read_csv('D:\\\\Learning\\\\Python Foundation Case Study 3 - Insurance Claims Case Study\\\\Case Study 3 - Insurance Claims Case Study\\\\claims.csv')\n",
    "customer=pd.read_csv('D:\\\\Learning\\\\Python Foundation Case Study 3 - Insurance Claims Case Study\\\\Case Study 3 - Insurance Claims Case Study\\\\cust_demographics.csv')"
   ]
  },
  {
   "cell_type": "code",
   "execution_count": 3,
   "id": "2298a7bc",
   "metadata": {},
   "outputs": [
    {
     "data": {
      "text/html": [
       "<div>\n",
       "<style scoped>\n",
       "    .dataframe tbody tr th:only-of-type {\n",
       "        vertical-align: middle;\n",
       "    }\n",
       "\n",
       "    .dataframe tbody tr th {\n",
       "        vertical-align: top;\n",
       "    }\n",
       "\n",
       "    .dataframe thead th {\n",
       "        text-align: right;\n",
       "    }\n",
       "</style>\n",
       "<table border=\"1\" class=\"dataframe\">\n",
       "  <thead>\n",
       "    <tr style=\"text-align: right;\">\n",
       "      <th></th>\n",
       "      <th>claim_id</th>\n",
       "      <th>customer_id</th>\n",
       "      <th>incident_cause</th>\n",
       "      <th>claim_date</th>\n",
       "      <th>claim_area</th>\n",
       "      <th>police_report</th>\n",
       "      <th>claim_type</th>\n",
       "      <th>claim_amount</th>\n",
       "      <th>total_policy_claims</th>\n",
       "      <th>fraudulent</th>\n",
       "    </tr>\n",
       "  </thead>\n",
       "  <tbody>\n",
       "    <tr>\n",
       "      <th>0</th>\n",
       "      <td>54004764</td>\n",
       "      <td>21868593</td>\n",
       "      <td>Driver error</td>\n",
       "      <td>11/27/2017</td>\n",
       "      <td>Auto</td>\n",
       "      <td>No</td>\n",
       "      <td>Material only</td>\n",
       "      <td>$2980</td>\n",
       "      <td>1.0</td>\n",
       "      <td>No</td>\n",
       "    </tr>\n",
       "    <tr>\n",
       "      <th>1</th>\n",
       "      <td>33985796</td>\n",
       "      <td>75740424</td>\n",
       "      <td>Crime</td>\n",
       "      <td>10/03/2018</td>\n",
       "      <td>Home</td>\n",
       "      <td>Unknown</td>\n",
       "      <td>Material only</td>\n",
       "      <td>$2980</td>\n",
       "      <td>3.0</td>\n",
       "      <td>No</td>\n",
       "    </tr>\n",
       "    <tr>\n",
       "      <th>2</th>\n",
       "      <td>53522022</td>\n",
       "      <td>30308357</td>\n",
       "      <td>Other driver error</td>\n",
       "      <td>02/02/2018</td>\n",
       "      <td>Auto</td>\n",
       "      <td>No</td>\n",
       "      <td>Material only</td>\n",
       "      <td>$3369.5</td>\n",
       "      <td>1.0</td>\n",
       "      <td>Yes</td>\n",
       "    </tr>\n",
       "    <tr>\n",
       "      <th>3</th>\n",
       "      <td>13015401</td>\n",
       "      <td>47830476</td>\n",
       "      <td>Natural causes</td>\n",
       "      <td>06/17/2018</td>\n",
       "      <td>Auto</td>\n",
       "      <td>No</td>\n",
       "      <td>Material only</td>\n",
       "      <td>$1680</td>\n",
       "      <td>1.0</td>\n",
       "      <td>No</td>\n",
       "    </tr>\n",
       "    <tr>\n",
       "      <th>4</th>\n",
       "      <td>22890252</td>\n",
       "      <td>19269962</td>\n",
       "      <td>Crime</td>\n",
       "      <td>01/13/2018</td>\n",
       "      <td>Auto</td>\n",
       "      <td>No</td>\n",
       "      <td>Material only</td>\n",
       "      <td>$2680</td>\n",
       "      <td>1.0</td>\n",
       "      <td>No</td>\n",
       "    </tr>\n",
       "  </tbody>\n",
       "</table>\n",
       "</div>"
      ],
      "text/plain": [
       "   claim_id  customer_id      incident_cause  claim_date claim_area  \\\n",
       "0  54004764     21868593        Driver error  11/27/2017       Auto   \n",
       "1  33985796     75740424               Crime  10/03/2018       Home   \n",
       "2  53522022     30308357  Other driver error  02/02/2018       Auto   \n",
       "3  13015401     47830476      Natural causes  06/17/2018       Auto   \n",
       "4  22890252     19269962               Crime  01/13/2018       Auto   \n",
       "\n",
       "  police_report     claim_type claim_amount  total_policy_claims fraudulent  \n",
       "0            No  Material only        $2980                  1.0         No  \n",
       "1       Unknown  Material only        $2980                  3.0         No  \n",
       "2            No  Material only      $3369.5                  1.0        Yes  \n",
       "3            No  Material only        $1680                  1.0         No  \n",
       "4            No  Material only        $2680                  1.0         No  "
      ]
     },
     "execution_count": 3,
     "metadata": {},
     "output_type": "execute_result"
    }
   ],
   "source": [
    "claims.head(5)"
   ]
  },
  {
   "cell_type": "code",
   "execution_count": 4,
   "id": "d0d64abd",
   "metadata": {},
   "outputs": [
    {
     "data": {
      "text/html": [
       "<div>\n",
       "<style scoped>\n",
       "    .dataframe tbody tr th:only-of-type {\n",
       "        vertical-align: middle;\n",
       "    }\n",
       "\n",
       "    .dataframe tbody tr th {\n",
       "        vertical-align: top;\n",
       "    }\n",
       "\n",
       "    .dataframe thead th {\n",
       "        text-align: right;\n",
       "    }\n",
       "</style>\n",
       "<table border=\"1\" class=\"dataframe\">\n",
       "  <thead>\n",
       "    <tr style=\"text-align: right;\">\n",
       "      <th></th>\n",
       "      <th>CUST_ID</th>\n",
       "      <th>gender</th>\n",
       "      <th>DateOfBirth</th>\n",
       "      <th>State</th>\n",
       "      <th>Contact</th>\n",
       "      <th>Segment</th>\n",
       "    </tr>\n",
       "  </thead>\n",
       "  <tbody>\n",
       "    <tr>\n",
       "      <th>0</th>\n",
       "      <td>21868593</td>\n",
       "      <td>Female</td>\n",
       "      <td>12-Jan-79</td>\n",
       "      <td>VT</td>\n",
       "      <td>789-916-8172</td>\n",
       "      <td>Platinum</td>\n",
       "    </tr>\n",
       "    <tr>\n",
       "      <th>1</th>\n",
       "      <td>75740424</td>\n",
       "      <td>Female</td>\n",
       "      <td>13-Jan-70</td>\n",
       "      <td>ME</td>\n",
       "      <td>265-543-1264</td>\n",
       "      <td>Silver</td>\n",
       "    </tr>\n",
       "    <tr>\n",
       "      <th>2</th>\n",
       "      <td>30308357</td>\n",
       "      <td>Female</td>\n",
       "      <td>11-Mar-84</td>\n",
       "      <td>TN</td>\n",
       "      <td>798-631-4758</td>\n",
       "      <td>Silver</td>\n",
       "    </tr>\n",
       "    <tr>\n",
       "      <th>3</th>\n",
       "      <td>47830476</td>\n",
       "      <td>Female</td>\n",
       "      <td>01-May-86</td>\n",
       "      <td>MA</td>\n",
       "      <td>413-187-7945</td>\n",
       "      <td>Silver</td>\n",
       "    </tr>\n",
       "    <tr>\n",
       "      <th>4</th>\n",
       "      <td>19269962</td>\n",
       "      <td>Male</td>\n",
       "      <td>13-May-77</td>\n",
       "      <td>NV</td>\n",
       "      <td>956-871-8691</td>\n",
       "      <td>Gold</td>\n",
       "    </tr>\n",
       "  </tbody>\n",
       "</table>\n",
       "</div>"
      ],
      "text/plain": [
       "    CUST_ID  gender DateOfBirth State       Contact   Segment\n",
       "0  21868593  Female   12-Jan-79    VT  789-916-8172  Platinum\n",
       "1  75740424  Female   13-Jan-70    ME  265-543-1264    Silver\n",
       "2  30308357  Female   11-Mar-84    TN  798-631-4758    Silver\n",
       "3  47830476  Female   01-May-86    MA  413-187-7945    Silver\n",
       "4  19269962    Male   13-May-77    NV  956-871-8691      Gold"
      ]
     },
     "execution_count": 4,
     "metadata": {},
     "output_type": "execute_result"
    }
   ],
   "source": [
    "customer.head(5)"
   ]
  },
  {
   "cell_type": "code",
   "execution_count": 5,
   "id": "90039d64",
   "metadata": {},
   "outputs": [],
   "source": [
    "claims_data= pd.merge(claims, customer, how='outer',left_on='customer_id',right_on='CUST_ID')"
   ]
  },
  {
   "cell_type": "code",
   "execution_count": 6,
   "id": "1dcd03fd",
   "metadata": {},
   "outputs": [],
   "source": [
    "claims_data=claims_data.drop(['CUST_ID'],axis=1)"
   ]
  },
  {
   "cell_type": "markdown",
   "id": "89f10905",
   "metadata": {},
   "source": [
    "### Q2."
   ]
  },
  {
   "cell_type": "code",
   "execution_count": 7,
   "id": "31a6b7c1",
   "metadata": {},
   "outputs": [
    {
     "name": "stdout",
     "output_type": "stream",
     "text": [
      "<class 'pandas.core.frame.DataFrame'>\n",
      "RangeIndex: 1107 entries, 0 to 1106\n",
      "Data columns (total 15 columns):\n",
      " #   Column               Non-Null Count  Dtype  \n",
      "---  ------               --------------  -----  \n",
      " 0   claim_id             1100 non-null   float64\n",
      " 1   customer_id          1100 non-null   float64\n",
      " 2   incident_cause       1100 non-null   object \n",
      " 3   claim_date           1100 non-null   object \n",
      " 4   claim_area           1100 non-null   object \n",
      " 5   police_report        1100 non-null   object \n",
      " 6   claim_type           1100 non-null   object \n",
      " 7   claim_amount         1035 non-null   object \n",
      " 8   total_policy_claims  1090 non-null   float64\n",
      " 9   fraudulent           1100 non-null   object \n",
      " 10  gender               1092 non-null   object \n",
      " 11  DateOfBirth          1092 non-null   object \n",
      " 12  State                1092 non-null   object \n",
      " 13  Contact              1092 non-null   object \n",
      " 14  Segment              1092 non-null   object \n",
      "dtypes: float64(3), object(12)\n",
      "memory usage: 129.9+ KB\n"
     ]
    }
   ],
   "source": [
    "claims_data.info()"
   ]
  },
  {
   "cell_type": "code",
   "execution_count": 8,
   "id": "dccfcacb",
   "metadata": {},
   "outputs": [],
   "source": [
    "claims_data[\"DateOfBirth\"] = pd.to_datetime(claims_data.DateOfBirth, format = \"%d-%b-%y\")\n",
    "claims_data.loc[(claims_data.DateOfBirth.dt.year > 2000),\"DateOfBirth\"]=claims_data[claims_data.DateOfBirth.dt.year > 2020][\"DateOfBirth\"].apply(lambda x: x - pd.DateOffset(years=100))\n",
    "claims_data[\"claim_date\"] = pd.to_datetime(claims_data.claim_date, format = \"%m/%d/%Y\")\n",
    "claims_data[\"Contact\"] = pd.to_numeric(claims_data.Contact.str.replace(\"-\",\"\"),downcast='float')"
   ]
  },
  {
   "cell_type": "markdown",
   "id": "a9f7ffbe",
   "metadata": {},
   "source": [
    "### Q3."
   ]
  },
  {
   "cell_type": "code",
   "execution_count": 9,
   "id": "791ea5fa",
   "metadata": {},
   "outputs": [],
   "source": [
    "claims_data.claim_amount=claims_data.claim_amount.str.replace('$','')"
   ]
  },
  {
   "cell_type": "code",
   "execution_count": 10,
   "id": "2054aa59",
   "metadata": {},
   "outputs": [],
   "source": [
    "claims_data.claim_amount=pd.to_numeric(claims_data.claim_amount)"
   ]
  },
  {
   "cell_type": "markdown",
   "id": "e9fb8a4d",
   "metadata": {},
   "source": [
    "### Q4."
   ]
  },
  {
   "cell_type": "code",
   "execution_count": 11,
   "id": "f3325130",
   "metadata": {},
   "outputs": [],
   "source": [
    "injury_claims=claims_data[claims_data.claim_type=='Injury only']"
   ]
  },
  {
   "cell_type": "code",
   "execution_count": 13,
   "id": "c0f1bdc0",
   "metadata": {},
   "outputs": [],
   "source": [
    "injury_claims.loc[:, 'Alert'] = np.where(injury_claims['police_report'] == 'No', 1, 0)"
   ]
  },
  {
   "cell_type": "code",
   "execution_count": 14,
   "id": "7f4aea0e",
   "metadata": {},
   "outputs": [
    {
     "data": {
      "text/html": [
       "<div>\n",
       "<style scoped>\n",
       "    .dataframe tbody tr th:only-of-type {\n",
       "        vertical-align: middle;\n",
       "    }\n",
       "\n",
       "    .dataframe tbody tr th {\n",
       "        vertical-align: top;\n",
       "    }\n",
       "\n",
       "    .dataframe thead th {\n",
       "        text-align: right;\n",
       "    }\n",
       "</style>\n",
       "<table border=\"1\" class=\"dataframe\">\n",
       "  <thead>\n",
       "    <tr style=\"text-align: right;\">\n",
       "      <th></th>\n",
       "      <th>claim_id</th>\n",
       "      <th>customer_id</th>\n",
       "      <th>incident_cause</th>\n",
       "      <th>claim_date</th>\n",
       "      <th>claim_area</th>\n",
       "      <th>police_report</th>\n",
       "      <th>claim_type</th>\n",
       "      <th>claim_amount</th>\n",
       "      <th>total_policy_claims</th>\n",
       "      <th>fraudulent</th>\n",
       "      <th>gender</th>\n",
       "      <th>DateOfBirth</th>\n",
       "      <th>State</th>\n",
       "      <th>Contact</th>\n",
       "      <th>Segment</th>\n",
       "      <th>Alert</th>\n",
       "    </tr>\n",
       "  </thead>\n",
       "  <tbody>\n",
       "    <tr>\n",
       "      <th>8</th>\n",
       "      <td>24050443.0</td>\n",
       "      <td>21831191.0</td>\n",
       "      <td>Other driver error</td>\n",
       "      <td>2017-10-04</td>\n",
       "      <td>Auto</td>\n",
       "      <td>No</td>\n",
       "      <td>Injury only</td>\n",
       "      <td>38306.5</td>\n",
       "      <td>3.0</td>\n",
       "      <td>Yes</td>\n",
       "      <td>Male</td>\n",
       "      <td>1977-05-17</td>\n",
       "      <td>NH</td>\n",
       "      <td>4.197129e+09</td>\n",
       "      <td>Gold</td>\n",
       "      <td>1</td>\n",
       "    </tr>\n",
       "    <tr>\n",
       "      <th>18</th>\n",
       "      <td>67257404.0</td>\n",
       "      <td>18288638.0</td>\n",
       "      <td>Other driver error</td>\n",
       "      <td>2018-04-24</td>\n",
       "      <td>Auto</td>\n",
       "      <td>Yes</td>\n",
       "      <td>Injury only</td>\n",
       "      <td>32560.0</td>\n",
       "      <td>1.0</td>\n",
       "      <td>No</td>\n",
       "      <td>Female</td>\n",
       "      <td>1969-01-14</td>\n",
       "      <td>MI</td>\n",
       "      <td>3.141351e+09</td>\n",
       "      <td>Platinum</td>\n",
       "      <td>0</td>\n",
       "    </tr>\n",
       "    <tr>\n",
       "      <th>21</th>\n",
       "      <td>7809917.0</td>\n",
       "      <td>63916778.0</td>\n",
       "      <td>Other causes</td>\n",
       "      <td>2017-07-22</td>\n",
       "      <td>Auto</td>\n",
       "      <td>No</td>\n",
       "      <td>Injury only</td>\n",
       "      <td>17800.0</td>\n",
       "      <td>1.0</td>\n",
       "      <td>No</td>\n",
       "      <td>Male</td>\n",
       "      <td>1966-09-07</td>\n",
       "      <td>IL</td>\n",
       "      <td>1.461575e+09</td>\n",
       "      <td>Platinum</td>\n",
       "      <td>1</td>\n",
       "    </tr>\n",
       "    <tr>\n",
       "      <th>22</th>\n",
       "      <td>29205389.0</td>\n",
       "      <td>17004138.0</td>\n",
       "      <td>Natural causes</td>\n",
       "      <td>2017-06-25</td>\n",
       "      <td>Auto</td>\n",
       "      <td>No</td>\n",
       "      <td>Injury only</td>\n",
       "      <td>31380.0</td>\n",
       "      <td>1.0</td>\n",
       "      <td>No</td>\n",
       "      <td>Female</td>\n",
       "      <td>1965-08-13</td>\n",
       "      <td>WA</td>\n",
       "      <td>4.363545e+09</td>\n",
       "      <td>Silver</td>\n",
       "      <td>1</td>\n",
       "    </tr>\n",
       "    <tr>\n",
       "      <th>23</th>\n",
       "      <td>19051665.0</td>\n",
       "      <td>9667764.0</td>\n",
       "      <td>Other causes</td>\n",
       "      <td>2017-12-17</td>\n",
       "      <td>Auto</td>\n",
       "      <td>Yes</td>\n",
       "      <td>Injury only</td>\n",
       "      <td>36190.0</td>\n",
       "      <td>1.0</td>\n",
       "      <td>No</td>\n",
       "      <td>Female</td>\n",
       "      <td>1979-10-10</td>\n",
       "      <td>SC</td>\n",
       "      <td>6.439788e+09</td>\n",
       "      <td>Platinum</td>\n",
       "      <td>0</td>\n",
       "    </tr>\n",
       "  </tbody>\n",
       "</table>\n",
       "</div>"
      ],
      "text/plain": [
       "      claim_id  customer_id      incident_cause claim_date claim_area  \\\n",
       "8   24050443.0   21831191.0  Other driver error 2017-10-04       Auto   \n",
       "18  67257404.0   18288638.0  Other driver error 2018-04-24       Auto   \n",
       "21   7809917.0   63916778.0        Other causes 2017-07-22       Auto   \n",
       "22  29205389.0   17004138.0      Natural causes 2017-06-25       Auto   \n",
       "23  19051665.0    9667764.0        Other causes 2017-12-17       Auto   \n",
       "\n",
       "   police_report   claim_type  claim_amount  total_policy_claims fraudulent  \\\n",
       "8             No  Injury only       38306.5                  3.0        Yes   \n",
       "18           Yes  Injury only       32560.0                  1.0         No   \n",
       "21            No  Injury only       17800.0                  1.0         No   \n",
       "22            No  Injury only       31380.0                  1.0         No   \n",
       "23           Yes  Injury only       36190.0                  1.0         No   \n",
       "\n",
       "    gender DateOfBirth State       Contact   Segment  Alert  \n",
       "8     Male  1977-05-17    NH  4.197129e+09      Gold      1  \n",
       "18  Female  1969-01-14    MI  3.141351e+09  Platinum      0  \n",
       "21    Male  1966-09-07    IL  1.461575e+09  Platinum      1  \n",
       "22  Female  1965-08-13    WA  4.363545e+09    Silver      1  \n",
       "23  Female  1979-10-10    SC  6.439788e+09  Platinum      0  "
      ]
     },
     "execution_count": 14,
     "metadata": {},
     "output_type": "execute_result"
    }
   ],
   "source": [
    "injury_claims.head(5)"
   ]
  },
  {
   "cell_type": "markdown",
   "id": "90b6e57d",
   "metadata": {},
   "source": [
    "### Q5."
   ]
  },
  {
   "cell_type": "code",
   "execution_count": 15,
   "id": "d2afa63d",
   "metadata": {},
   "outputs": [],
   "source": [
    "claims_data = claims_data.groupby('customer_id').first().reset_index()"
   ]
  },
  {
   "cell_type": "markdown",
   "id": "68441db9",
   "metadata": {},
   "source": [
    "### Q6."
   ]
  },
  {
   "cell_type": "code",
   "execution_count": 16,
   "id": "770ca508",
   "metadata": {},
   "outputs": [],
   "source": [
    "def missing_imputation(x):\n",
    "    if x.dtype == 'object':\n",
    "        x = x.fillna(x.mode()[0])\n",
    "    else:\n",
    "        x = x.fillna(x.mean())\n",
    "    return x\n",
    "claims_data=claims_data.apply(missing_imputation)"
   ]
  },
  {
   "cell_type": "markdown",
   "id": "88b40d0f",
   "metadata": {},
   "source": [
    "### Q7."
   ]
  },
  {
   "cell_type": "code",
   "execution_count": 17,
   "id": "5a8c70d0",
   "metadata": {},
   "outputs": [],
   "source": [
    "claims_data['Age']=claims_data.claim_date.dt.year-claims_data.DateOfBirth.dt.year  "
   ]
  },
  {
   "cell_type": "code",
   "execution_count": 18,
   "id": "cb3d4221",
   "metadata": {},
   "outputs": [
    {
     "data": {
      "text/html": [
       "<div>\n",
       "<style scoped>\n",
       "    .dataframe tbody tr th:only-of-type {\n",
       "        vertical-align: middle;\n",
       "    }\n",
       "\n",
       "    .dataframe tbody tr th {\n",
       "        vertical-align: top;\n",
       "    }\n",
       "\n",
       "    .dataframe thead th {\n",
       "        text-align: right;\n",
       "    }\n",
       "</style>\n",
       "<table border=\"1\" class=\"dataframe\">\n",
       "  <thead>\n",
       "    <tr style=\"text-align: right;\">\n",
       "      <th></th>\n",
       "      <th>customer_id</th>\n",
       "      <th>claim_id</th>\n",
       "      <th>incident_cause</th>\n",
       "      <th>claim_date</th>\n",
       "      <th>claim_area</th>\n",
       "      <th>police_report</th>\n",
       "      <th>claim_type</th>\n",
       "      <th>claim_amount</th>\n",
       "      <th>total_policy_claims</th>\n",
       "      <th>fraudulent</th>\n",
       "      <th>gender</th>\n",
       "      <th>DateOfBirth</th>\n",
       "      <th>State</th>\n",
       "      <th>Contact</th>\n",
       "      <th>Segment</th>\n",
       "      <th>Age</th>\n",
       "    </tr>\n",
       "    <tr>\n",
       "      <th>Category</th>\n",
       "      <th></th>\n",
       "      <th></th>\n",
       "      <th></th>\n",
       "      <th></th>\n",
       "      <th></th>\n",
       "      <th></th>\n",
       "      <th></th>\n",
       "      <th></th>\n",
       "      <th></th>\n",
       "      <th></th>\n",
       "      <th></th>\n",
       "      <th></th>\n",
       "      <th></th>\n",
       "      <th></th>\n",
       "      <th></th>\n",
       "      <th></th>\n",
       "    </tr>\n",
       "  </thead>\n",
       "  <tbody>\n",
       "    <tr>\n",
       "      <th>Children</th>\n",
       "      <td>18</td>\n",
       "      <td>18</td>\n",
       "      <td>18</td>\n",
       "      <td>18</td>\n",
       "      <td>18</td>\n",
       "      <td>18</td>\n",
       "      <td>18</td>\n",
       "      <td>18</td>\n",
       "      <td>18</td>\n",
       "      <td>18</td>\n",
       "      <td>18</td>\n",
       "      <td>18</td>\n",
       "      <td>18</td>\n",
       "      <td>18</td>\n",
       "      <td>18</td>\n",
       "      <td>18</td>\n",
       "    </tr>\n",
       "    <tr>\n",
       "      <th>Youth</th>\n",
       "      <td>331</td>\n",
       "      <td>331</td>\n",
       "      <td>331</td>\n",
       "      <td>331</td>\n",
       "      <td>331</td>\n",
       "      <td>331</td>\n",
       "      <td>331</td>\n",
       "      <td>331</td>\n",
       "      <td>331</td>\n",
       "      <td>331</td>\n",
       "      <td>331</td>\n",
       "      <td>331</td>\n",
       "      <td>331</td>\n",
       "      <td>331</td>\n",
       "      <td>331</td>\n",
       "      <td>331</td>\n",
       "    </tr>\n",
       "    <tr>\n",
       "      <th>Adult</th>\n",
       "      <td>744</td>\n",
       "      <td>744</td>\n",
       "      <td>744</td>\n",
       "      <td>744</td>\n",
       "      <td>744</td>\n",
       "      <td>744</td>\n",
       "      <td>744</td>\n",
       "      <td>744</td>\n",
       "      <td>744</td>\n",
       "      <td>744</td>\n",
       "      <td>744</td>\n",
       "      <td>744</td>\n",
       "      <td>744</td>\n",
       "      <td>744</td>\n",
       "      <td>744</td>\n",
       "      <td>744</td>\n",
       "    </tr>\n",
       "    <tr>\n",
       "      <th>Senior</th>\n",
       "      <td>0</td>\n",
       "      <td>0</td>\n",
       "      <td>0</td>\n",
       "      <td>0</td>\n",
       "      <td>0</td>\n",
       "      <td>0</td>\n",
       "      <td>0</td>\n",
       "      <td>0</td>\n",
       "      <td>0</td>\n",
       "      <td>0</td>\n",
       "      <td>0</td>\n",
       "      <td>0</td>\n",
       "      <td>0</td>\n",
       "      <td>0</td>\n",
       "      <td>0</td>\n",
       "      <td>0</td>\n",
       "    </tr>\n",
       "  </tbody>\n",
       "</table>\n",
       "</div>"
      ],
      "text/plain": [
       "          customer_id  claim_id  incident_cause  claim_date  claim_area  \\\n",
       "Category                                                                  \n",
       "Children           18        18              18          18          18   \n",
       "Youth             331       331             331         331         331   \n",
       "Adult             744       744             744         744         744   \n",
       "Senior              0         0               0           0           0   \n",
       "\n",
       "          police_report  claim_type  claim_amount  total_policy_claims  \\\n",
       "Category                                                                 \n",
       "Children             18          18            18                   18   \n",
       "Youth               331         331           331                  331   \n",
       "Adult               744         744           744                  744   \n",
       "Senior                0           0             0                    0   \n",
       "\n",
       "          fraudulent  gender  DateOfBirth  State  Contact  Segment  Age  \n",
       "Category                                                                 \n",
       "Children          18      18           18     18       18       18   18  \n",
       "Youth            331     331          331    331      331      331  331  \n",
       "Adult            744     744          744    744      744      744  744  \n",
       "Senior             0       0            0      0        0        0    0  "
      ]
     },
     "execution_count": 18,
     "metadata": {},
     "output_type": "execute_result"
    }
   ],
   "source": [
    "age_bins = [0, 18, 30, 60, float('inf')]\n",
    "age_labels = ['Children', 'Youth', 'Adult', 'Senior']\n",
    "\n",
    "# Categorize customers based on age into the specified criteria\n",
    "claims_data['Category'] = pd.cut(claims_data['Age'], bins=age_bins, labels=age_labels)\n",
    "claims_data.groupby(['Category']).count()"
   ]
  },
  {
   "cell_type": "markdown",
   "id": "873d6c35",
   "metadata": {},
   "source": [
    "### Q8."
   ]
  },
  {
   "cell_type": "code",
   "execution_count": 19,
   "id": "c6085572",
   "metadata": {},
   "outputs": [
    {
     "data": {
      "text/plain": [
       "Segment\n",
       "Gold        12675.262946\n",
       "Platinum    12368.233815\n",
       "Silver      12267.349306\n",
       "Name: claim_amount, dtype: float64"
      ]
     },
     "execution_count": 19,
     "metadata": {},
     "output_type": "execute_result"
    }
   ],
   "source": [
    "claims_data.groupby(['Segment'])['claim_amount'].mean()"
   ]
  },
  {
   "cell_type": "markdown",
   "id": "7570fdf5",
   "metadata": {},
   "source": [
    "### Q9."
   ]
  },
  {
   "cell_type": "code",
   "execution_count": 20,
   "id": "7eaf9904",
   "metadata": {},
   "outputs": [
    {
     "data": {
      "text/plain": [
       "incident_cause\n",
       "Crime                  729485.64\n",
       "Driver error          3292986.73\n",
       "Natural causes        1315024.04\n",
       "Other causes          3779918.82\n",
       "Other driver error    3384078.95\n",
       "Name: claim_amount, dtype: float64"
      ]
     },
     "execution_count": 20,
     "metadata": {},
     "output_type": "execute_result"
    }
   ],
   "source": [
    "round(claims_data[claims_data.claim_date<'2018-09-10'].groupby(['incident_cause'])['claim_amount'].sum(),2)"
   ]
  },
  {
   "cell_type": "markdown",
   "id": "731ce6e7",
   "metadata": {},
   "source": [
    "### Q10."
   ]
  },
  {
   "cell_type": "code",
   "execution_count": 21,
   "id": "8f7c21b3",
   "metadata": {},
   "outputs": [],
   "source": [
    "driver_count=claims_data[(claims_data.incident_cause.str.lower().str.contains('driver'))&(claims_data.State.isin(['TX','DE','AK'])) & (claims_data.Category=='Adult')]"
   ]
  },
  {
   "cell_type": "code",
   "execution_count": 22,
   "id": "18c2f0b3",
   "metadata": {},
   "outputs": [
    {
     "data": {
      "text/plain": [
       "State\n",
       "AK    8\n",
       "DE    9\n",
       "TX    6\n",
       "Name: State, dtype: int64"
      ]
     },
     "execution_count": 22,
     "metadata": {},
     "output_type": "execute_result"
    }
   ],
   "source": [
    "driver_count.groupby(['State'])['State'].count()"
   ]
  },
  {
   "cell_type": "markdown",
   "id": "eb06d292",
   "metadata": {},
   "source": [
    "### Q11."
   ]
  },
  {
   "cell_type": "code",
   "execution_count": 23,
   "id": "5f888cfc",
   "metadata": {},
   "outputs": [],
   "source": [
    "def round_and_sum(x):\n",
    "    return round(sum(x), 2)\n",
    "gender_pie=claims_data.pivot_table(index='gender', columns='Segment',values='claim_amount',aggfunc=round_and_sum)"
   ]
  },
  {
   "cell_type": "code",
   "execution_count": 24,
   "id": "fea6557f",
   "metadata": {},
   "outputs": [
    {
     "data": {
      "image/png": "[encoded data removed]",
      "text/plain": [
       "<Figure size 576x432 with 1 Axes>"
      ]
     },
     "metadata": {},
     "output_type": "display_data"
    },
    {
     "data": {
      "image/png": "[encoded data removed]",
      "text/plain": [
       "<Figure size 576x432 with 1 Axes>"
      ]
     },
     "metadata": {},
     "output_type": "display_data"
    }
   ],
   "source": [
    "plt.figure(figsize=(8, 6))\n",
    "labels = gender_pie.columns\n",
    "colors = ['skyblue', 'lightpink', 'lightgrey']\n",
    "plt.pie(gender_pie.loc['Female'], labels=labels, colors=colors, autopct='%1.1f%%', startangle=140)\n",
    "plt.axis('equal') \n",
    "plt.title(\"Claim Amount by Gender (Female)\")\n",
    "plt.show()\n",
    "\n",
    "plt.figure(figsize=(8, 6))\n",
    "plt.pie(gender_pie.loc['Male'], labels=labels, colors=colors, autopct='%1.1f%%', startangle=140)\n",
    "plt.axis('equal') \n",
    "plt.title(\"Claim Amount by Gender (Male)\")\n",
    "plt.show()\n"
   ]
  },
  {
   "cell_type": "markdown",
   "id": "5b3d6042",
   "metadata": {},
   "source": [
    "\n",
    "\n",
    "\n",
    "### Q12."
   ]
  },
  {
   "cell_type": "code",
   "execution_count": 25,
   "id": "ff4f6b1e",
   "metadata": {},
   "outputs": [],
   "source": [
    "a=claims_data[(claims_data.incident_cause.str.lower().str.contains('driver'))].groupby(['gender'])['gender'].count()"
   ]
  },
  {
   "cell_type": "code",
   "execution_count": 26,
   "id": "eeaf77cd",
   "metadata": {},
   "outputs": [
    {
     "data": {
      "image/png": "[encoded data removed]",
      "text/plain": [
       "<Figure size 720x432 with 1 Axes>"
      ]
     },
     "metadata": {
      "needs_background": "light"
     },
     "output_type": "display_data"
    }
   ],
   "source": [
    "a.plot(kind='bar',figsize=(10,6),color='orange')\n",
    "plt.xlabel('Gender')\n",
    "plt.ylabel('Count of Gender')\n",
    "plt.xticks(rotation=0)\n",
    "plt.show()"
   ]
  },
  {
   "cell_type": "markdown",
   "id": "1c046194",
   "metadata": {},
   "source": [
    "### Q13."
   ]
  },
  {
   "cell_type": "code",
   "execution_count": 27,
   "id": "5b1c524c",
   "metadata": {},
   "outputs": [],
   "source": [
    "fraud=claims_data[claims_data.fraudulent=='Yes'].groupby(['Category'])['total_policy_claims'].sum()\n",
    "fraud=fraud.drop('Senior')"
   ]
  },
  {
   "cell_type": "code",
   "execution_count": 28,
   "id": "57b783a8",
   "metadata": {},
   "outputs": [
    {
     "data": {
      "image/png": "[encoded data removed]",
      "text/plain": [
       "<Figure size 720x432 with 1 Axes>"
      ]
     },
     "metadata": {
      "needs_background": "light"
     },
     "output_type": "display_data"
    }
   ],
   "source": [
    "fraud.plot(kind='bar',figsize=(10,6), color='lightblue')\n",
    "plt.xlabel('Category')\n",
    "plt.ylabel('Count of category')\n",
    "plt.xticks(rotation=0)\n",
    "plt.show()"
   ]
  },
  {
   "cell_type": "markdown",
   "id": "778ce0e8",
   "metadata": {},
   "source": [
    "### Q14."
   ]
  },
  {
   "cell_type": "code",
   "execution_count": 29,
   "id": "f0f6ee4a",
   "metadata": {},
   "outputs": [],
   "source": [
    "claims_data['month'] = claims_data['claim_date'].dt.strftime('%B')\n",
    "month_order = ['January', 'February', 'March', 'April', 'May', 'June', 'July', 'August', 'September', 'October', 'November', 'December']\n",
    "claims_data['month'] = pd.Categorical(claims_data['month'], categories=month_order, ordered=True)"
   ]
  },
  {
   "cell_type": "code",
   "execution_count": 30,
   "id": "a1b0e54f",
   "metadata": {},
   "outputs": [],
   "source": [
    "monthly_claim_amount=round(claims_data.groupby(['month'])['claim_amount'].sum(),2)"
   ]
  },
  {
   "cell_type": "code",
   "execution_count": 31,
   "id": "88d45008",
   "metadata": {},
   "outputs": [
    {
     "data": {
      "image/png": "[encoded data removed]",
      "text/plain": [
       "<Figure size 1080x720 with 1 Axes>"
      ]
     },
     "metadata": {
      "needs_background": "light"
     },
     "output_type": "display_data"
    }
   ],
   "source": [
    "monthly_claim_amount.plot(kind='line',figsize=(15,10),color='darkblue',marker='o')\n",
    "plt.xlabel('Month')\n",
    "plt.ylabel('Total amount in Month')\n",
    "plt.grid(True)\n",
    "plt.show()"
   ]
  },
  {
   "cell_type": "markdown",
   "id": "bfd371f4",
   "metadata": {},
   "source": [
    "### Q15."
   ]
  },
  {
   "cell_type": "code",
   "execution_count": 32,
   "id": "34cf1698",
   "metadata": {},
   "outputs": [
    {
     "data": {
      "image/png": "[encoded data removed]",
      "text/plain": [
       "<Figure size 720x720 with 2 Axes>"
      ]
     },
     "metadata": {
      "needs_background": "light"
     },
     "output_type": "display_data"
    }
   ],
   "source": [
    "Frauds_amount_gender= pd.DataFrame(claims_data.loc[(claims_data.fraudulent==\"Yes\")].groupby([\"gender\",\"Category\"])[[\"claim_amount\"]].mean().add_prefix(\"Fraud_\"))\n",
    "Non_Frauds_amount_gender=pd.DataFrame(claims_data.loc[(claims_data.fraudulent==\"No\")].groupby([\"gender\",\"Category\"])[[\"claim_amount\"]].mean().add_prefix(\"Non_Fraud_\"))\n",
    "\n",
    "Claims_age_gender=round(pd.merge(Frauds_amount_gender,Non_Frauds_amount_gender, on=[\"gender\",\"Category\"]),2)\n",
    "\n",
    "Claims_age_gender.plot(kind=\"bar\", subplots= True, legend= True,figsize=(10,10))\n",
    "plt.show()\n",
    "\n"
   ]
  },
  {
   "cell_type": "code",
   "execution_count": 33,
   "id": "02d096eb",
   "metadata": {},
   "outputs": [],
   "source": [
    "import scipy.stats as stats"
   ]
  },
  {
   "cell_type": "markdown",
   "id": "459d8fce",
   "metadata": {},
   "source": [
    "### Q16."
   ]
  },
  {
   "cell_type": "code",
   "execution_count": 34,
   "id": "6ffa23b2",
   "metadata": {},
   "outputs": [],
   "source": [
    "claims_male=claims_data.loc[claims_data.gender=='Male','claim_amount']\n",
    "claims_female=claims_data.loc[claims_data.gender=='Female','claim_amount']"
   ]
  },
  {
   "cell_type": "code",
   "execution_count": 35,
   "id": "ec1ca894",
   "metadata": {},
   "outputs": [
    {
     "name": "stdout",
     "output_type": "stream",
     "text": [
      "Average claim by males:  12765.03\n",
      "Average claim by females:  12100.72\n"
     ]
    }
   ],
   "source": [
    "print('Average claim by males: ' , round(claims_male.mean(),2))\n",
    "print('Average claim by females: ', round(claims_female.mean(),2))"
   ]
  },
  {
   "cell_type": "code",
   "execution_count": 36,
   "id": "ee61234f",
   "metadata": {},
   "outputs": [],
   "source": [
    "# Ho : u1=u2\n",
    "# Ha : u1 <> u2\n",
    "# p_value : 0.05\n",
    "# CI : 95%"
   ]
  },
  {
   "cell_type": "code",
   "execution_count": 37,
   "id": "65562c7c",
   "metadata": {},
   "outputs": [
    {
     "data": {
      "text/plain": [
       "TtestResult(statistic=0.821612848932144, pvalue=0.4114767802889234, df=1091.0)"
      ]
     },
     "execution_count": 37,
     "metadata": {},
     "output_type": "execute_result"
    }
   ],
   "source": [
    "stats.ttest_ind(claims_male, claims_female)"
   ]
  },
  {
   "cell_type": "code",
   "execution_count": 38,
   "id": "c882d7d8",
   "metadata": {},
   "outputs": [
    {
     "name": "stdout",
     "output_type": "stream",
     "text": [
      " As the p value is greater than 0.05, we fail to reject null hypothesis, \n",
      "thus the amount claimed by males & females have some similarity. \n"
     ]
    }
   ],
   "source": [
    "print(''' As the p value is greater than 0.05, we fail to reject null hypothesis, \n",
    "thus the amount claimed by males & females have some similarity. ''')\n"
   ]
  },
  {
   "cell_type": "markdown",
   "id": "8b646e3f",
   "metadata": {},
   "source": [
    "### Q17."
   ]
  },
  {
   "cell_type": "code",
   "execution_count": 39,
   "id": "b07558ce",
   "metadata": {},
   "outputs": [],
   "source": [
    "observation=pd.crosstab(index=claims_data.Segment, columns=claims_data.Category)"
   ]
  },
  {
   "cell_type": "code",
   "execution_count": 40,
   "id": "d0385f81",
   "metadata": {},
   "outputs": [
    {
     "data": {
      "text/html": [
       "<div>\n",
       "<style scoped>\n",
       "    .dataframe tbody tr th:only-of-type {\n",
       "        vertical-align: middle;\n",
       "    }\n",
       "\n",
       "    .dataframe tbody tr th {\n",
       "        vertical-align: top;\n",
       "    }\n",
       "\n",
       "    .dataframe thead th {\n",
       "        text-align: right;\n",
       "    }\n",
       "</style>\n",
       "<table border=\"1\" class=\"dataframe\">\n",
       "  <thead>\n",
       "    <tr style=\"text-align: right;\">\n",
       "      <th>Category</th>\n",
       "      <th>Children</th>\n",
       "      <th>Youth</th>\n",
       "      <th>Adult</th>\n",
       "    </tr>\n",
       "    <tr>\n",
       "      <th>Segment</th>\n",
       "      <th></th>\n",
       "      <th></th>\n",
       "      <th></th>\n",
       "    </tr>\n",
       "  </thead>\n",
       "  <tbody>\n",
       "    <tr>\n",
       "      <th>Gold</th>\n",
       "      <td>7</td>\n",
       "      <td>110</td>\n",
       "      <td>269</td>\n",
       "    </tr>\n",
       "    <tr>\n",
       "      <th>Platinum</th>\n",
       "      <td>6</td>\n",
       "      <td>117</td>\n",
       "      <td>238</td>\n",
       "    </tr>\n",
       "    <tr>\n",
       "      <th>Silver</th>\n",
       "      <td>5</td>\n",
       "      <td>104</td>\n",
       "      <td>237</td>\n",
       "    </tr>\n",
       "  </tbody>\n",
       "</table>\n",
       "</div>"
      ],
      "text/plain": [
       "Category  Children  Youth  Adult\n",
       "Segment                         \n",
       "Gold             7    110    269\n",
       "Platinum         6    117    238\n",
       "Silver           5    104    237"
      ]
     },
     "execution_count": 40,
     "metadata": {},
     "output_type": "execute_result"
    }
   ],
   "source": [
    "observation"
   ]
  },
  {
   "cell_type": "code",
   "execution_count": 41,
   "id": "0f119484",
   "metadata": {},
   "outputs": [],
   "source": [
    "# Ho : There is no relationship between Category and segment\n",
    "# Ha : There is a relationship\n",
    "# p-value : 0.05"
   ]
  },
  {
   "cell_type": "code",
   "execution_count": 42,
   "id": "8bd9b59e",
   "metadata": {},
   "outputs": [
    {
     "data": {
      "text/plain": [
       "Chi2ContingencyResult(statistic=1.5038476231549371, pvalue=0.8259596912830427, dof=4, expected_freq=array([[  6.3568161 , 116.894785  , 262.7483989 ],\n",
       "       [  5.94510522, 109.32387923, 245.73101555],\n",
       "       [  5.69807868, 104.78133577, 235.52058554]]))"
      ]
     },
     "execution_count": 42,
     "metadata": {},
     "output_type": "execute_result"
    }
   ],
   "source": [
    "stats.chi2_contingency(observation)"
   ]
  },
  {
   "cell_type": "code",
   "execution_count": 43,
   "id": "d4b19ca6",
   "metadata": {},
   "outputs": [
    {
     "name": "stdout",
     "output_type": "stream",
     "text": [
      "We fail to reject null hypothesis, since is the p-value comes out greater than 0.05\n",
      "therefore we can conclude there is no relation between category and segment\n"
     ]
    }
   ],
   "source": [
    "print('''We fail to reject null hypothesis, since is the p-value comes out greater than 0.05\n",
    "therefore we can conclude there is no relation between category and segment''')"
   ]
  },
  {
   "cell_type": "markdown",
   "id": "4f14edcf",
   "metadata": {},
   "source": [
    "### Q18."
   ]
  },
  {
   "cell_type": "code",
   "execution_count": 44,
   "id": "220ecbd7",
   "metadata": {},
   "outputs": [],
   "source": [
    "claims_data['year']=claims_data.claim_date.dt.year"
   ]
  },
  {
   "cell_type": "code",
   "execution_count": 45,
   "id": "37a8fc69",
   "metadata": {},
   "outputs": [],
   "source": [
    "current_year_data = claims_data.loc[claims_data['year'] == 2018,'claim_amount']\n",
    "\n",
    "#fiscal_average=$10000\n",
    "\n",
    "# Ho : u <= 10000\n",
    "# Ha : u > 10000\n",
    "# CI : 95%\n",
    "# p-value : 0.05\n"
   ]
  },
  {
   "cell_type": "code",
   "execution_count": 46,
   "id": "156e660b",
   "metadata": {},
   "outputs": [
    {
     "data": {
      "text/plain": [
       "TtestResult(statistic=4.308914037117706, pvalue=1.985741363740185e-05, df=487)"
      ]
     },
     "execution_count": 46,
     "metadata": {},
     "output_type": "execute_result"
    }
   ],
   "source": [
    "stats.ttest_1samp(current_year_data,10000)"
   ]
  },
  {
   "cell_type": "code",
   "execution_count": 47,
   "id": "96d4eaa9",
   "metadata": {},
   "outputs": [
    {
     "data": {
      "text/plain": [
       "12623.533243366079"
      ]
     },
     "execution_count": 47,
     "metadata": {},
     "output_type": "execute_result"
    }
   ],
   "source": [
    "current_year_data.mean()"
   ]
  },
  {
   "cell_type": "code",
   "execution_count": 48,
   "id": "7c069e3a",
   "metadata": {},
   "outputs": [
    {
     "name": "stdout",
     "output_type": "stream",
     "text": [
      " We reject null hypothesis, as the current year shows significant rise than fiscal year\n"
     ]
    }
   ],
   "source": [
    "print(''' We reject null hypothesis, as the current year shows significant rise than fiscal year''')"
   ]
  },
  {
   "cell_type": "markdown",
   "id": "403b90d1",
   "metadata": {},
   "source": [
    "### Q19."
   ]
  },
  {
   "cell_type": "code",
   "execution_count": 50,
   "id": "055a55af",
   "metadata": {},
   "outputs": [
    {
     "data": {
      "text/plain": [
       "Category\n",
       "Adult       744\n",
       "Youth       331\n",
       "Children     18\n",
       "Senior        0\n",
       "Name: count, dtype: int64"
      ]
     },
     "execution_count": 50,
     "metadata": {},
     "output_type": "execute_result"
    }
   ],
   "source": [
    "claims_data.Category.value_counts()"
   ]
  },
  {
   "cell_type": "code",
   "execution_count": 51,
   "id": "511ab0f7",
   "metadata": {},
   "outputs": [],
   "source": [
    "Adult=claims_data.loc[claims_data.Category=='Adult','total_policy_claims']\n",
    "Youth=claims_data.loc[claims_data.Category=='Youth','total_policy_claims']\n",
    "Children=claims_data.loc[claims_data.Category=='Children','total_policy_claims']"
   ]
  },
  {
   "cell_type": "code",
   "execution_count": 52,
   "id": "1e11c3d1",
   "metadata": {},
   "outputs": [
    {
     "name": "stdout",
     "output_type": "stream",
     "text": [
      "Mean of Adult:  1.5721748130938553 | Mean of Youth:  1.589651103430384 | Mean of Children: 2.1666666666666665\n"
     ]
    }
   ],
   "source": [
    "print('Mean of Adult: ', Adult.mean(), '| Mean of Youth: ', Youth.mean(), '| Mean of Children:', Children.mean())"
   ]
  },
  {
   "cell_type": "code",
   "execution_count": 53,
   "id": "178736e5",
   "metadata": {},
   "outputs": [],
   "source": [
    "# Ho : u1 = u2 = u3\n",
    "# Ha : u1 <> u2 <> u3\n",
    "# p-value : 0.05"
   ]
  },
  {
   "cell_type": "code",
   "execution_count": 54,
   "id": "94365cb0",
   "metadata": {},
   "outputs": [
    {
     "data": {
      "text/plain": [
       "F_onewayResult(statistic=2.418526730595248, pvalue=0.08953047134640661)"
      ]
     },
     "execution_count": 54,
     "metadata": {},
     "output_type": "execute_result"
    }
   ],
   "source": [
    "stats.f_oneway(Adult,Youth, Children)"
   ]
  },
  {
   "cell_type": "code",
   "execution_count": 55,
   "id": "c829e5e0",
   "metadata": {},
   "outputs": [
    {
     "name": "stdout",
     "output_type": "stream",
     "text": [
      "We fail to reject null hypothesis,since p-value >0.05,\n",
      "thus there is no difference bewteeen age category and insurance claims\n"
     ]
    }
   ],
   "source": [
    "print('''We fail to reject null hypothesis,since p-value >0.05,\n",
    "thus there is no difference bewteeen age category and insurance claims''')"
   ]
  },
  {
   "cell_type": "markdown",
   "id": "0334c999",
   "metadata": {},
   "source": [
    "### Q20."
   ]
  },
  {
   "cell_type": "code",
   "execution_count": null,
   "id": "4701a414",
   "metadata": {},
   "outputs": [],
   "source": [
    "# Is there any relationship between total number of policy claims and the\n",
    "# claimed amount?"
   ]
  },
  {
   "cell_type": "code",
   "execution_count": null,
   "id": "e11abb10",
   "metadata": {},
   "outputs": [],
   "source": [
    "# Ho : r=0\n",
    "# Ha : r<>0\n",
    "# CI : 95%\n",
    "# p-vlaue: 0.05"
   ]
  },
  {
   "cell_type": "code",
   "execution_count": 56,
   "id": "f5dc3126",
   "metadata": {},
   "outputs": [
    {
     "data": {
      "text/plain": [
       "PearsonRResult(statistic=-0.016409477672452967, pvalue=0.5878721766392909)"
      ]
     },
     "execution_count": 56,
     "metadata": {},
     "output_type": "execute_result"
    }
   ],
   "source": [
    "stats.pearsonr(claims_data.claim_amount, claims_data.total_policy_claims)"
   ]
  },
  {
   "cell_type": "code",
   "execution_count": 58,
   "id": "8af68520",
   "metadata": {},
   "outputs": [
    {
     "name": "stdout",
     "output_type": "stream",
     "text": [
      "Since p-value>0.05, we fail to reject null hypothesis, there is no relation between claim amount and total\n",
      "no. of policy claims\n"
     ]
    }
   ],
   "source": [
    "print('''Since p-value>0.05, we fail to reject null hypothesis, there is no relation between claim amount and total\n",
    "no. of policy claims''')"
   ]
  },
  {
   "cell_type": "code",
   "execution_count": null,
   "id": "247bef58",
   "metadata": {},
   "outputs": [],
   "source": []
  }
 ],
 "metadata": {
  "kernelspec": {
   "display_name": "Python 3 (ipykernel)",
   "language": "python",
   "name": "python3"
  },
  "language_info": {
   "codemirror_mode": {
    "name": "ipython",
    "version": 3
   },
   "file_extension": ".py",
   "mimetype": "text/x-python",
   "name": "python",
   "nbconvert_exporter": "python",
   "pygments_lexer": "ipython3",
   "version": "3.9.7"
  }
 },
 "nbformat": 4,
 "nbformat_minor": 5
}
